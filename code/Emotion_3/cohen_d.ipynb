{
  "cells": [
    {
      "cell_type": "code",
      "execution_count": null,
      "id": "e408aeb5-dc4f-4250-9e60-844b314ab09b",
      "metadata": {
        "pycharm": {
          "name": "#%%\n"
        },
        "id": "e408aeb5-dc4f-4250-9e60-844b314ab09b"
      },
      "outputs": [],
      "source": [
        "import pandas as pd\n",
        "from datetime import datetime\n",
        "import numpy as np\n"
      ]
    },
    {
      "cell_type": "code",
      "execution_count": null,
      "id": "1b7f24ed-a0d4-4b4b-8cfd-287438b14e8e",
      "metadata": {
        "pycharm": {
          "name": "#%%\n"
        },
        "id": "1b7f24ed-a0d4-4b4b-8cfd-287438b14e8e"
      },
      "outputs": [],
      "source": [
        "def convert_date(date_str):\n",
        "    try:\n",
        "        date_obj = datetime.strptime(str(date_str), '%a %b %d %H:%M:%S %z %Y')\n",
        "        return date_obj.strftime('%Y-%m-%d %H:%M:%S')\n",
        "    except (ValueError, TypeError):\n",
        "        return np.nan\n",
        "\n",
        "def convert_date_df(df):\n",
        "    df['date'] = df['created_at'].apply(convert_date)\n",
        "    df = df.dropna(subset=['date'])\n",
        "    df['date'] = pd.to_datetime(df['date'])\n",
        "\n",
        "    # Create 'year' and 'month' columns\n",
        "    df['year'] = df['date'].dt.year\n",
        "    df['month'] = df['date'].dt.month\n",
        "    return df\n",
        "\n",
        "\n",
        "def filter_emotion(df):\n",
        "    df = df[['screen_name','joy_pys','sadness_pys','anger_pys','surprise_pys','disgust_pys','fear_pys','date']]\n",
        "    df['date'] = pd.to_datetime(df['date'])\n",
        "    return df\n",
        "\n",
        "def filter_emotion_all(df):\n",
        "    df = df[['screen_name','joy','sadness','anger','surprise','disgust','fear','date']]\n",
        "    df['date'] = pd.to_datetime(df['date'])\n",
        "    return df\n",
        "def avg_emotion_per_user(df):\n",
        "    df.loc[:, 'date'] = pd.to_datetime(df['date'])\n",
        "\n",
        "    df.set_index('date', inplace=True)\n",
        "    # Resample DataFrame to weekly frequency and calculate mean for each user\n",
        "    weekly_avg_per_user = df.groupby('screen_name').resample('M').mean()#w\n",
        "    # print(weekly_avg_per_user)\n",
        "\n",
        "    # Calculate the overall weekly average by taking the mean of the weekly averages per user\n",
        "    # overall_weekly_avg = weekly_avg_per_user.mean(level='date')\n",
        "    overall_weekly_avg = weekly_avg_per_user.groupby(level='date').mean()\n",
        "\n",
        "    return overall_weekly_avg\n",
        "\n",
        "\n",
        "def replace_column_emotion(df):\n",
        "    df.columns = df.columns.str.replace('_pys', '', regex=False)\n",
        "    return df\n"
      ]
    },
    {
      "cell_type": "markdown",
      "id": "c8c7c942-7fb7-4b10-bef5-d7ad1ea95da4",
      "metadata": {
        "pycharm": {
          "name": "#%% md\n"
        },
        "id": "c8c7c942-7fb7-4b10-bef5-d7ad1ea95da4"
      },
      "source": [
        "# Save Data"
      ]
    },
    {
      "cell_type": "code",
      "execution_count": null,
      "id": "0ea6a48b-281a-4b55-94ab-80ca2bcc40e5",
      "metadata": {
        "pycharm": {
          "name": "#%%\n"
        },
        "id": "0ea6a48b-281a-4b55-94ab-80ca2bcc40e5"
      },
      "outputs": [],
      "source": [
        "hcp_stats.to_pickle('Cohen_d/hcp_stats_cohend.pkl')\n",
        "\n",
        "general_stats.to_pickle('Cohen_d/nonhcp_cohend.pkl')\n"
      ]
    },
    {
      "cell_type": "markdown",
      "id": "b901b3f0-47af-4f7c-af8e-c4de5bf42b8f",
      "metadata": {
        "pycharm": {
          "name": "#%% md\n"
        },
        "id": "b901b3f0-47af-4f7c-af8e-c4de5bf42b8f"
      },
      "source": [
        "# Load Data"
      ]
    },
    {
      "cell_type": "code",
      "execution_count": null,
      "id": "56efd227-4ea6-4af3-a91c-d01e887abb95",
      "metadata": {
        "pycharm": {
          "name": "#%%\n"
        },
        "id": "56efd227-4ea6-4af3-a91c-d01e887abb95"
      },
      "outputs": [],
      "source": [
        "\n",
        "hcp_stats = pd.read_csv(\"hcp_cohend.csv\")\n",
        "general_stats = pd.read_csv(\"nonhcp_cohend.csv\")\n"
      ]
    },
    {
      "cell_type": "code",
      "execution_count": null,
      "outputs": [],
      "source": [
        "# Formatting output to match the style of the image\n",
        "def format_output(stats_df, group_name):\n",
        "    for index, row in stats_df.iterrows():\n",
        "        print(f\"The top 5 themes for {group_name} in {row['phase']} were:\")\n",
        "        print(f\"- Joy: 95% CI [{row['joy_95ci'][0]:.3f}, {row['joy_95ci'][1]:.3f}]\")\n",
        "        print(f\"- Sadness: 95% CI [{row['sadness_95ci'][0]:.3f}, {row['sadness_95ci'][1]:.3f}]\")\n",
        "        print(f\"- Anger: 95% CI [{row['anger_95ci'][0]:.3f}, {row['anger_95ci'][1]:.2f}]\")\n",
        "        print(f\"- Surprise: 95% CI [{row['surprise_95ci'][0]:.3f}, {row['surprise_95ci'][1]:.3f}]\")\n",
        "        print(f\"- Disgust: 95% CI [{row['disgust_95ci'][0]:.3f}, {row['disgust_95ci'][1]:.3f}]\")\n",
        "        print(f\"- Fear: 95% CI [{row['fear_95ci'][0]:.3f}, {row['fear_95ci'][1]:.3f}]\\n\")\n",
        "\n",
        "# Output the formatted statistics\n",
        "format_output(hcp_stats, 'HCP Population')\n",
        "format_output(general_stats, 'General Population')\n"
      ],
      "metadata": {
        "pycharm": {
          "name": "#%%\n"
        },
        "id": "kI7a1HLTYfgz"
      },
      "id": "kI7a1HLTYfgz"
    },
    {
      "cell_type": "code",
      "execution_count": null,
      "outputs": [],
      "source": [
        "import pandas as pd\n",
        "import numpy as np\n",
        "from scipy.stats import t\n",
        "\n",
        "# Function to calculate Cohen's d\n",
        "def calculate_cohen_d(mean1, mean2, std1, std2, n1, n2):\n",
        "    pooled_std = np.sqrt(((n1 - 1) * std1 ** 2 + (n2 - 1) * std2 ** 2) / (n1 + n2 - 2))\n",
        "    d = (mean1 - mean2) / pooled_std\n",
        "    return d\n",
        "\n",
        "# Extract 'Before COVID Phases' data\n",
        "hcp_before_data = hcp_stats[hcp_stats['phase'] == 'Before COVID Phases']\n",
        "general_before_data = general_stats[general_stats['phase'] == 'Before COVID Phases']\n",
        "\n",
        "# List of emotions to compute Cohen's d\n",
        "emotions = ['sadness', 'anger', 'surprise', 'disgust', 'fear', 'joy']\n",
        "\n",
        "# Compute Cohen's d for HCP populations\n",
        "for emotion in emotions:\n",
        "    hcp_stats[f'{emotion}_cohen_d'] = hcp_stats.apply(lambda row: calculate_cohen_d(\n",
        "        row[f'{emotion}_mean'],\n",
        "        hcp_before_data[f'{emotion}_mean'].mean(),\n",
        "        row[f'{emotion}_std'],\n",
        "        hcp_before_data[f'{emotion}_std'].mean(),\n",
        "        row['unique_users'],\n",
        "        hcp_before_data['unique_users'].sum()\n",
        "    ) if row['phase'] != 'Before COVID Phases' else np.nan, axis=1)\n",
        "\n",
        "# Compute Cohen's d for General populations\n",
        "for emotion in emotions:\n",
        "    general_stats[f'{emotion}_cohen_d'] = general_stats.apply(lambda row: calculate_cohen_d(\n",
        "        row[f'{emotion}_mean'],\n",
        "        general_before_data[f'{emotion}_mean'].mean(),\n",
        "        row[f'{emotion}_std'],\n",
        "        general_before_data[f'{emotion}_std'].mean(),\n",
        "        row['unique_users'],\n",
        "        general_before_data['unique_users'].sum()\n",
        "    ) if row['phase'] != 'Before COVID Phases' else np.nan, axis=1)\n",
        "\n",
        "# Function to format and print the results\n",
        "def format_output(stats_df, group_name):\n",
        "    for index, row in stats_df.iterrows():\n",
        "        print(f\"The top 5 themes for {group_name} in {row['phase']} were:\")\n",
        "        for emotion in emotions:\n",
        "            cohen_d_value = row[f'{emotion}_cohen_d']\n",
        "            ci_lower, ci_upper = row[f'{emotion}_95ci']\n",
        "            print(f\"- {emotion.capitalize()}: 95% CI [{ci_lower:.3f}, {ci_upper:.3f}], Cohen's d: {cohen_d_value:.3f}\")\n",
        "        print()\n",
        "\n",
        "# Output the formatted statistics with Cohen's d\n",
        "format_output(hcp_stats, 'HCP Population')\n",
        "format_output(general_stats, 'General Population')\n"
      ],
      "metadata": {
        "pycharm": {
          "name": "#%%\n"
        },
        "id": "0aC2GmfjYfg0"
      },
      "id": "0aC2GmfjYfg0"
    },
    {
      "cell_type": "code",
      "execution_count": null,
      "outputs": [],
      "source": [
        "# Function to calculate Cohen's d and its 95% confidence interval\n",
        "def calculate_cohen_d_and_ci(mean1, mean2, std1, std2, n1, n2, alpha=0.05):\n",
        "    # Calculate Cohen's d\n",
        "    pooled_std = np.sqrt(((n1 - 1) * std1**2 + (n2 - 1) * std2**2) / (n1 + n2 - 2))\n",
        "    d = (mean1 - mean2) / pooled_std\n",
        "\n",
        "    # Calculate standard error\n",
        "    se_d = np.sqrt((n1 + n2) / (n1 * n2) + d**2 / (2 * (n1 + n2)))\n",
        "\n",
        "    # Critical value from t-distribution\n",
        "    t_crit = t.ppf(1 - alpha / 2, df=n1 + n2 - 2)\n",
        "\n",
        "    # Calculate confidence interval\n",
        "    ci_lower = d - t_crit * se_d\n",
        "    ci_upper = d + t_crit * se_d\n",
        "\n",
        "    return d, (ci_lower, ci_upper)\n",
        "\n",
        "# Example usage for HCP populations\n",
        "for emotion in emotions:\n",
        "    hcp_stats[f'{emotion}_cohen_d'] = hcp_stats.apply(lambda row: calculate_cohen_d_and_ci(\n",
        "        row[f'{emotion}_mean'],\n",
        "        hcp_before_data[f'{emotion}_mean'].mean(),\n",
        "        row[f'{emotion}_std'],\n",
        "        hcp_before_data[f'{emotion}_std'].mean(),\n",
        "        row['unique_users'],\n",
        "        hcp_before_data['unique_users'].sum()\n",
        "    )[0] if row['phase'] != 'Before COVID Phases' else np.nan, axis=1)\n",
        "\n",
        "    hcp_stats[f'{emotion}_cohen_d_ci'] = hcp_stats.apply(lambda row: calculate_cohen_d_and_ci(\n",
        "        row[f'{emotion}_mean'],\n",
        "        hcp_before_data[f'{emotion}_mean'].mean(),\n",
        "        row[f'{emotion}_std'],\n",
        "        hcp_before_data[f'{emotion}_std'].mean(),\n",
        "        row['unique_users'],\n",
        "        hcp_before_data['unique_users'].sum()\n",
        "    )[1] if row['phase'] != 'Before COVID Phases' else (np.nan, np.nan), axis=1)\n",
        "\n",
        "\n",
        "#########################################################################################################\n",
        "\n",
        "for emotion in emotions:\n",
        "    general_stats[f'{emotion}_cohen_d'] = general_stats.apply(lambda row: calculate_cohen_d_and_ci(\n",
        "        row[f'{emotion}_mean'],\n",
        "        general_before_data[f'{emotion}_mean'].mean(),\n",
        "        row[f'{emotion}_std'],\n",
        "        general_before_data[f'{emotion}_std'].mean(),\n",
        "        row['unique_users'],\n",
        "        general_before_data['unique_users'].sum()\n",
        "    )[0] if row['phase'] != 'Before COVID Phases' else np.nan, axis=1)\n",
        "\n",
        "    general_stats[f'{emotion}_cohen_d_ci'] = general_stats.apply(lambda row: calculate_cohen_d_and_ci(\n",
        "        row[f'{emotion}_mean'],\n",
        "        general_before_data[f'{emotion}_mean'].mean(),\n",
        "        row[f'{emotion}_std'],\n",
        "        general_before_data[f'{emotion}_std'].mean(),\n",
        "        row['unique_users'],\n",
        "        general_before_data['unique_users'].sum()\n",
        "    )[1] if row['phase'] != 'Before COVID Phases' else (np.nan, np.nan), axis=1)\n",
        "\n",
        "\n",
        "\n",
        "# Print results\n",
        "for index, row in hcp_stats.iterrows():\n",
        "    print(f\"In {row['phase']}:\")\n",
        "    for emotion in emotions:\n",
        "        cohen_d_value = row[f'{emotion}_cohen_d']\n",
        "        ci_lower, ci_upper = row[f'{emotion}_cohen_d_ci']\n",
        "        print(f\"- {emotion.capitalize()}: Cohen's d = {cohen_d_value:.3f}, 95% CI = [{ci_lower:.3f}, {ci_upper:.3f}]\")\n",
        "    print()\n",
        "\n",
        "\n",
        "print(\"------------------------------\")\n",
        "print(\"---------------genral---------------\")\n",
        "for index, row in general_stats.iterrows():\n",
        "    print(f\"In {row['phase']}:\")\n",
        "    for emotion in emotions:\n",
        "        cohen_d_value = row[f'{emotion}_cohen_d']\n",
        "        ci_lower, ci_upper = row[f'{emotion}_cohen_d_ci']\n",
        "        print(f\"- {emotion.capitalize()}: Cohen's d = {cohen_d_value:.3f}, 95% CI = [{ci_lower:.3f}, {ci_upper:.3f}]\")\n",
        "    print()\n"
      ],
      "metadata": {
        "pycharm": {
          "name": "#%%\n"
        },
        "id": "WZv_kPgKYfg1"
      },
      "id": "WZv_kPgKYfg1"
    },
    {
      "cell_type": "code",
      "execution_count": null,
      "outputs": [],
      "source": [
        "# Compute Cohen's d and CI between HCP and General populations for each phase and emotion\n",
        "emotions = ['sadness', 'anger', 'surprise', 'disgust', 'fear', 'joy']\n",
        "cohen_d_comparison = {}\n",
        "\n",
        "# Iterate over each phase and emotion to compare HCP and General populations\n",
        "for phase in hcp_stats['phase'].unique():\n",
        "    for emotion in emotions:\n",
        "        # Get data for the current phase for both populations\n",
        "        hcp_data = hcp_stats[hcp_stats['phase'] == phase]\n",
        "        general_data = general_stats[general_stats['phase'] == phase]\n",
        "\n",
        "        if not hcp_data.empty and not general_data.empty:\n",
        "            # Calculate mean and std for HCP and General data\n",
        "            hcp_mean = hcp_data[f'{emotion}_mean'].mean()\n",
        "            general_mean = general_data[f'{emotion}_mean'].mean()\n",
        "            hcp_std = hcp_data[f'{emotion}_std'].mean()\n",
        "            general_std = general_data[f'{emotion}_std'].mean()\n",
        "            hcp_n = hcp_data['unique_users'].sum()\n",
        "            general_n = general_data['unique_users'].sum()\n",
        "\n",
        "            # Calculate Cohen's d and its CI\n",
        "            cohen_d_value, ci = calculate_cohen_d_and_ci(\n",
        "                hcp_mean,\n",
        "                general_mean,\n",
        "                hcp_std,\n",
        "                general_std,\n",
        "                hcp_n,\n",
        "                general_n\n",
        "            )\n",
        "            cohen_d_comparison[(phase, emotion)] = (cohen_d_value, ci)\n",
        "\n",
        "# Update format_output function to include Cohen's d and its CI\n",
        "def format_output_comparison_with_ci(group_name_1, group_name_2, cohen_d_comparison):\n",
        "    for (phase, emotion), (cohen_d_value, ci) in cohen_d_comparison.items():\n",
        "        ci_lower, ci_upper = ci\n",
        "        print(f\"In {phase}, for {emotion.capitalize()}:\")\n",
        "        print(f\"- Cohen's d ({group_name_1} vs {group_name_2}): {cohen_d_value:.3f}, 95% CI: [{ci_lower:.3f}, {ci_upper:.3f}]\")\n",
        "        print()\n",
        "\n",
        "# Output the formatted statistics comparing HCP and General populations\n",
        "format_output_comparison_with_ci('HCP Population', 'General Population', cohen_d_comparison)\n"
      ],
      "metadata": {
        "pycharm": {
          "name": "#%%\n"
        },
        "id": "JG-XHKmbYfg1"
      },
      "id": "JG-XHKmbYfg1"
    },
    {
      "cell_type": "code",
      "execution_count": null,
      "outputs": [],
      "source": [
        "import pandas as pd\n",
        "\n",
        "# Create lists to hold the data for the Excel file\n",
        "phase_list = []\n",
        "emotion_list = []\n",
        "group_list = []\n",
        "cohen_d_values = []\n",
        "ci_lower_values = []\n",
        "ci_upper_values = []\n",
        "\n",
        "# Iterate over HCP stats and collect data\n",
        "for index, row in hcp_stats.iterrows():\n",
        "    phase = row['phase']\n",
        "    for emotion in emotions:\n",
        "        cohen_d_value = row[f'{emotion}_cohen_d']\n",
        "        ci_lower, ci_upper = row[f'{emotion}_cohen_d_ci']\n",
        "        phase_list.append(phase)\n",
        "        emotion_list.append(emotion)\n",
        "        group_list.append('HCP Population')\n",
        "        cohen_d_values.append(cohen_d_value)\n",
        "        ci_lower_values.append(ci_lower)\n",
        "        ci_upper_values.append(ci_upper)\n",
        "\n",
        "# Iterate over General stats and collect data\n",
        "for index, row in general_stats.iterrows():\n",
        "    phase = row['phase']\n",
        "    for emotion in emotions:\n",
        "        cohen_d_value = row[f'{emotion}_cohen_d']\n",
        "        ci_lower, ci_upper = row[f'{emotion}_cohen_d_ci']\n",
        "        phase_list.append(phase)\n",
        "        emotion_list.append(emotion)\n",
        "        group_list.append('General Population')\n",
        "        cohen_d_values.append(cohen_d_value)\n",
        "        ci_lower_values.append(ci_lower)\n",
        "        ci_upper_values.append(ci_upper)\n",
        "\n",
        "# Iterate over comparison data\n",
        "for (phase, emotion), (cohen_d_value, ci) in cohen_d_comparison.items():\n",
        "    ci_lower, ci_upper = ci\n",
        "    phase_list.append(phase)\n",
        "    emotion_list.append(emotion)\n",
        "    group_list.append('HCP vs General Population')\n",
        "    cohen_d_values.append(cohen_d_value)\n",
        "    ci_lower_values.append(ci_lower)\n",
        "    ci_upper_values.append(ci_upper)\n",
        "\n",
        "# Create a DataFrame\n",
        "data = {\n",
        "    \"Phase\": phase_list,\n",
        "    \"Emotion\": emotion_list,\n",
        "    \"Group\": group_list,\n",
        "    \"Cohen's d\": cohen_d_values,\n",
        "    \"CI Lower\": ci_lower_values,\n",
        "    \"CI Upper\": ci_upper_values,\n",
        "}\n",
        "df = pd.DataFrame(data)\n",
        "\n",
        "# Save to Excel\n",
        "output_file_path = \"cohen_d_full_results.xlsx\"\n",
        "df.to_excel(output_file_path, index=False)\n",
        "\n",
        "output_file_path\n"
      ],
      "metadata": {
        "pycharm": {
          "name": "#%%\n"
        },
        "id": "hf6UYTvLYfg2"
      },
      "id": "hf6UYTvLYfg2"
    },
    {
      "cell_type": "code",
      "execution_count": null,
      "outputs": [],
      "source": [
        "# Compute Cohen's d and CI between HCP and General populations for each phase and emotion\n",
        "emotions = ['sadness', 'anger', 'surprise', 'disgust', 'fear', 'joy']\n",
        "cohen_d_comparison = {}\n",
        "\n",
        "# Iterate over each phase and emotion to compare HCP and General populations\n",
        "for phase in hcp_stats['phase'].unique():\n",
        "    for emotion in emotions:\n",
        "        # Get data for the current phase for both populations\n",
        "        hcp_data = hcp_stats[hcp_stats['phase'] == phase]\n",
        "        general_data = general_stats[general_stats['phase'] == phase]\n",
        "\n",
        "        if not hcp_data.empty and not general_data.empty:\n",
        "            # Calculate mean and std for HCP and General data\n",
        "            hcp_mean = hcp_data[f'{emotion}_mean'].mean()\n",
        "            general_mean = general_data[f'{emotion}_mean'].mean()\n",
        "            hcp_std = hcp_data[f'{emotion}_std'].mean()\n",
        "            general_std = general_data[f'{emotion}_std'].mean()\n",
        "            hcp_n = hcp_data['unique_users'].sum()\n",
        "            general_n = general_data['unique_users'].sum()\n",
        "\n",
        "            # Calculate Cohen's d and its CI\n",
        "            cohen_d_value, ci = calculate_cohen_d_and_ci(\n",
        "                hcp_mean,\n",
        "                general_mean,\n",
        "                hcp_std,\n",
        "                general_std,\n",
        "                hcp_n,\n",
        "                general_n\n",
        "            )\n",
        "            cohen_d_comparison[(phase, emotion)] = (cohen_d_value, ci)\n",
        "\n",
        "# Update format_output function to include Cohen's d and its CI\n",
        "def format_output_comparison_with_ci(group_name_1, group_name_2, cohen_d_comparison):\n",
        "    for (phase, emotion), (cohen_d_value, ci) in cohen_d_comparison.items():\n",
        "        ci_lower, ci_upper = ci\n",
        "        print(f\"In {phase}, for {emotion.capitalize()}:\")\n",
        "        print(f\"- Cohen's d ({group_name_1} vs {group_name_2}): {cohen_d_value:.3f}, 95% CI: [{ci_lower:.3f}, {ci_upper:.3f}]\")\n",
        "        print()\n",
        "\n",
        "# Output the formatted statistics comparing HCP and General populations\n",
        "format_output_comparison_with_ci('HCP Population', 'General Population', cohen_d_comparison)\n"
      ],
      "metadata": {
        "pycharm": {
          "name": "#%%\n"
        },
        "id": "zG6SZeclYfg2"
      },
      "id": "zG6SZeclYfg2"
    },
    {
      "cell_type": "code",
      "execution_count": null,
      "id": "931643e0-9331-4db9-8ab1-5bad02bf11e9",
      "metadata": {
        "pycharm": {
          "name": "#%%\n"
        },
        "id": "931643e0-9331-4db9-8ab1-5bad02bf11e9"
      },
      "outputs": [],
      "source": []
    }
  ],
  "metadata": {
    "kernelspec": {
      "display_name": "mmat_new",
      "language": "python",
      "name": "mmat"
    },
    "language_info": {
      "codemirror_mode": {
        "name": "ipython",
        "version": 3
      },
      "file_extension": ".py",
      "mimetype": "text/x-python",
      "name": "python",
      "nbconvert_exporter": "python",
      "pygments_lexer": "ipython3",
      "version": "3.13.3"
    },
    "colab": {
      "provenance": []
    }
  },
  "nbformat": 4,
  "nbformat_minor": 5
}