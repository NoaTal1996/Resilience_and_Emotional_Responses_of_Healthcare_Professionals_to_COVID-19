{
 "cells": [
  {
   "cell_type": "markdown",
   "id": "e71dc2a8-fd23-4be0-b7f6-cecacc063546",
   "metadata": {
    "pycharm": {
     "name": "#%% md\n"
    }
   },
   "source": [
    "# Import\n"
   ]
  },
  {
   "cell_type": "code",
   "execution_count": 2,
   "id": "24fcd90d-fa0a-4f92-afb5-acf338cbb9fb",
   "metadata": {
    "pycharm": {
     "name": "#%%\n"
    }
   },
   "outputs": [],
   "source": [
    "import pandas as pd\n",
    "import numpy as np\n",
    "from datetime import datetime\n",
    "from scipy import stats\n"
   ]
  },
  {
   "cell_type": "markdown",
   "id": "cb4db3b0-b15d-474f-8c03-d9612b5f763a",
   "metadata": {
    "pycharm": {
     "name": "#%% md\n"
    }
   },
   "source": [
    "# Emotion Data Preprocessing Utilities\n"
   ]
  },
  {
   "cell_type": "code",
   "execution_count": 3,
   "id": "24991625-8484-4589-8b0c-450b0870d0da",
   "metadata": {
    "pycharm": {
     "name": "#%%\n"
    }
   },
   "outputs": [],
   "source": [
    "def convert_date(date_str):\n",
    "    try:\n",
    "        date_obj = datetime.strptime(str(date_str), '%a %b %d %H:%M:%S %z %Y')\n",
    "        return date_obj.strftime('%Y-%m-%d %H:%M:%S')\n",
    "    except (ValueError, TypeError):\n",
    "        return np.nan\n",
    "    \n",
    "def convert_date_df(df):\n",
    "    df['date'] = df['created_at'].apply(convert_date)\n",
    "    df = df.dropna(subset=['date'])\n",
    "    df['date'] = pd.to_datetime(df['date'])\n",
    "\n",
    "    # Create 'year' and 'month' columns\n",
    "    df['year'] = df['date'].dt.year\n",
    "    df['month'] = df['date'].dt.month\n",
    "    return df\n",
    "\n",
    "\n",
    "def filter_emotion(df):\n",
    "    cols = ['screen_name', 'joy_pys', 'sadness_pys', 'anger_pys', \n",
    "            'surprise_pys', 'disgust_pys', 'fear_pys', 'date']\n",
    "    df = df[cols]\n",
    "    df['date'] = pd.to_datetime(df['date'])\n",
    "    return df\n",
    "\n",
    "def filter_emotion_all(df):\n",
    "  cols = ['screen_name', 'joy', 'sadness', 'anger', \n",
    "            'surprise', 'disgust', 'fear', 'date']\n",
    "    df = df[cols]\n",
    "    df['date'] = pd.to_datetime(df['date'])\n",
    "    return df\n",
    "def avg_emotion_per_user(df):\n",
    "    df.loc[:, 'date'] = pd.to_datetime(df['date'])\n",
    "\n",
    "    df.set_index('date', inplace=True)\n",
    "    weekly_avg_per_user = df.groupby('screen_name').resample('M').mean()#w\n",
    "    overall_weekly_avg = weekly_avg_per_user.groupby(level='date').mean()\n",
    "\n",
    "    return overall_weekly_avg\n",
    "\n",
    "\n",
    "def replace_column_emotion(df):\n",
    "    df.columns = df.columns.str.replace('_pys', '', regex=False)\n",
    "    return df\n",
    "\n",
    "def process_emotion_data(df):\n",
    "    # Create a new column for counting unique users\n",
    "    # df['user_count'] = df.groupby(['year', 'month'])['screen_name'].transform('nunique')\n",
    "\n",
    "    # Group by year and month and calculate mean, standard deviation, and count of unique users\n",
    "    grouped = df.groupby(['year', 'month']).agg({'joy': ['mean', 'std', 'count'],\n",
    "                                                 'sadness': ['mean', 'std', 'count'],\n",
    "                                                 'anger': ['mean', 'std', 'count'],\n",
    "                                                 'surprise': ['mean', 'std', 'count'],\n",
    "                                                 'disgust': ['mean', 'std', 'count'],\n",
    "                                                 'fear': ['mean', 'std', 'count'],\n",
    "                                                 'date': 'first'})\n",
    "\n",
    "    # Calculate the 95% CI\n",
    "    for emotion in ['joy', 'sadness', 'anger', 'surprise', 'disgust', 'fear']:\n",
    "        count = grouped[(emotion, 'count')]\n",
    "        grouped[(emotion, 'ci_lower')] = grouped[(emotion, 'mean')] - 1.96 * grouped[(emotion, 'std')] / np.sqrt(count)\n",
    "        grouped[(emotion, 'ci_upper')] = grouped[(emotion, 'mean')] + 1.96 * grouped[(emotion, 'std')] / np.sqrt(count)\n",
    "\n",
    "    # Flatten MultiIndex columns for better readability\n",
    "    grouped.columns = ['_'.join(col).strip() for col in grouped.columns.values]\n",
    "\n",
    "    return grouped\n"
   ]
  },
  {
   "cell_type": "markdown",
   "id": "f1eb39c5-23b6-45f8-988b-708dc8f9f9a6",
   "metadata": {
    "pycharm": {
     "name": "#%% md\n"
    }
   },
   "source": [
    "# load Data"
   ]
  },
  {
   "cell_type": "code",
   "execution_count": 26,
   "id": "bdd3a998-b06c-4508-af6f-f540de300b96",
   "metadata": {
    "pycharm": {
     "name": "#%%\n"
    }
   },
   "outputs": [],
   "source": [
    "grouped_hcp = pd.read_csv('Data_1/hcp_graph1.csv')\n",
    "grouped_general = pd.read_csv('Data_1/nonhcp_graph1.csv')\n"
   ]
  },
  {
   "cell_type": "code",
   "execution_count": 27,
   "id": "f0deb42a-b977-4bb4-acb3-1a9631524c03",
   "metadata": {
    "pycharm": {
     "name": "#%%\n"
    }
   },
   "outputs": [],
   "source": [
    "import pickle\n",
    "\n",
    "# Specify the filename for the pickle file\n",
    "filename = '../significant_data.pkl'\n",
    "\n",
    "# Open the file in read-binary mode and load the data\n",
    "with open(filename, 'rb') as file:\n",
    "    significant_data = pickle.load(file)\n",
    "\n"
   ]
  },
  {
   "cell_type": "code",
   "execution_count": 28,
   "id": "31f73fb0-545c-4297-845a-f8ab61640245",
   "metadata": {
    "pycharm": {
     "name": "#%%\n"
    }
   },
   "outputs": [],
   "source": [
    "emotion_markers = significant_data"
   ]
  },
  {
   "cell_type": "code",
   "execution_count": null,
   "outputs": [],
   "source": [
    "import pandas as pd\n",
    "import numpy as np\n",
    "import matplotlib.pyplot as plt\n",
    "plt.style.use('default')\n",
    "\n",
    "# Define emotion order and corresponding colors\n",
    "emotions = ['fear', 'sadness', 'anger', 'joy', 'disgust', 'surprise']\n",
    "colors = ['blue', 'orange', 'red', 'green', 'purple', 'brown']\n",
    "\n",
    "# Create figure with one subplot per emotion\n",
    "fig, axs = plt.subplots(len(emotions), 1, figsize=(12, 2.5 * len(emotions)))\n",
    "\n",
    "# Make sure 'date' column exists by combining year and month\n",
    "grouped_hcp['date'] = pd.to_datetime(grouped_hcp['year'].astype(str) + '-' + grouped_hcp['month'].astype(str))\n",
    "grouped_general['date'] = pd.to_datetime(grouped_general['year'].astype(str) + '-' + grouped_general['month'].astype(str))\n",
    "\n",
    "for j, emotion in enumerate(emotions):\n",
    "    ax = axs[j]\n",
    "\n",
    "    # Extract mean and CI data\n",
    "    hcp_mean = grouped_hcp[['date', f'{emotion}_mean', f'{emotion}_ci_lower', f'{emotion}_ci_upper']]\n",
    "    general_mean = grouped_general[['date', f'{emotion}_mean', f'{emotion}_ci_lower', f'{emotion}_ci_upper']]\n",
    "\n",
    "    # Plot confidence intervals as shaded areas\n",
    "    ax.fill_between(hcp_mean['date'], hcp_mean[f'{emotion}_ci_lower'], hcp_mean[f'{emotion}_ci_upper'],\n",
    "                    color=colors[j], alpha=0.3)\n",
    "    ax.fill_between(general_mean['date'], general_mean[f'{emotion}_ci_lower'], general_mean[f'{emotion}_ci_upper'],\n",
    "                    color=colors[j], alpha=0.3)\n",
    "\n",
    "    # Plot mean emotion scores\n",
    "    ax.plot(hcp_mean['date'], hcp_mean[f'{emotion}_mean'], color=colors[j], label='HCWs')\n",
    "    ax.plot(general_mean['date'], general_mean[f'{emotion}_mean'], color=colors[j], linestyle='--', label='Non-HCWs')\n",
    "\n",
    "    # Optional: Plot significance markers if defined\n",
    "    marker_indices = emotion_markers.get(emotion, [])\n",
    "    if marker_indices:\n",
    "        max_y = max(hcp_mean[f'{emotion}_mean'].max(), general_mean[f'{emotion}_mean'].max()) * 1.1\n",
    "        for index in marker_indices:\n",
    "            if index < len(hcp_mean):\n",
    "                ax.plot(hcp_mean['date'].iloc[index], max_y, color='black', marker='^', linestyle='',\n",
    "                        label='Statistically Significant' if index == marker_indices[0] else \"\")\n",
    "\n",
    "    # Label and legend\n",
    "    ax.set_ylabel(emotion.capitalize(), fontsize=12)\n",
    "    ax.set_xlabel('Date', fontsize=12)\n",
    "    ax.legend(loc='upper right', bbox_to_anchor=(1.15, 1))\n",
    "\n",
    "plt.tight_layout()\n",
    "plt.show()\n"
   ],
   "metadata": {
    "collapsed": false,
    "pycharm": {
     "name": "#%%\n"
    }
   }
  },
  {
   "cell_type": "code",
   "execution_count": null,
   "outputs": [],
   "source": [
    "import pandas as pd\n",
    "import numpy as np\n",
    "import matplotlib.pyplot as plt\n",
    "plt.style.use('default')\n",
    "\n",
    "# Example significant data, replace this with your actual data\n",
    "\n",
    "# Define the emotions and colors for plotting\n",
    "emotions = ['joy', 'sadness', 'anger', 'surprise', 'disgust', 'fear']\n",
    "emotions = ['fear', 'sadness', 'anger', 'joy', 'disgust', 'surprise']\n",
    "\n",
    "colors = ['blue', 'orange', 'green', 'red', 'purple', 'brown']\n",
    "colors = ['blue', 'orange', 'red', 'green', 'purple', 'brown']\n",
    "\n",
    "\n",
    "fig, axs = plt.subplots(len(emotions), 1, figsize=(10, 2*(len(emotions) + 1)))\n",
    "\n",
    "for j, emotion in enumerate(emotions):\n",
    "    # Convert index to datetime\n",
    "    hcp_mean = grouped_hcp[f'{emotion}_mean'].reset_index()\n",
    "    hcp_mean['date'] = pd.to_datetime(hcp_mean['year'].astype(int).astype(str) + '-' + hcp_mean['month'].astype(int).astype(str))\n",
    "\n",
    "    general_mean = grouped_general[f'{emotion}_mean'].reset_index()\n",
    "    general_mean['date'] = pd.to_datetime(general_mean['year'].astype(int).astype(str) + '-' + general_mean['month'].astype(int).astype(str))\n",
    "\n",
    "    # Extract CI values\n",
    "    hcp_ci_lower = grouped_hcp[f'{emotion}_ci_lower'].values\n",
    "    hcp_ci_upper = grouped_hcp[f'{emotion}_ci_upper'].values\n",
    "    general_ci_lower = grouped_general[f'{emotion}_ci_lower'].values\n",
    "    general_ci_upper = grouped_general[f'{emotion}_ci_upper'].values\n",
    "\n",
    "    # Plot the CIs and the actual trend lines\n",
    "    axs[j].fill_between(hcp_mean['date'], hcp_ci_lower, hcp_ci_upper, color=colors[j], alpha=0.3)#, label='HCPs 96CI'\n",
    "    axs[j].fill_between(general_mean['date'], general_ci_lower, general_ci_upper, color=colors[j], alpha=0.3) #, label='Non-Hcps 96CI'\n",
    "    axs[j].plot(hcp_mean['date'], hcp_mean[f'{emotion}_mean'], color=colors[j], label='HCWs')\n",
    "    axs[j].plot(general_mean['date'], general_mean[f'{emotion}_mean'], color=colors[j], linestyle='--', label='Non-HCWs')\n",
    "\n",
    "    # Plot the markers for significant differences\n",
    "    max_y_value_non_hcp =  general_mean[f'{emotion}_mean'].max()\n",
    "    max_y_value_hcp = hcp_mean[f'{emotion}_mean'].max()\n",
    "    marker_y_value = max(max_y_value_non_hcp, max_y_value_hcp) * 1.1  # Adjust factor as needed\n",
    "    marker_indices = emotion_markers.get(emotion, [])\n",
    "\n",
    "    for index in marker_indices:\n",
    "        if index < len(hcp_mean['date']):\n",
    "            axs[j].plot(hcp_mean['date'].iloc[index], marker_y_value, color='black', linestyle='', marker='^', label='Statistically Significant Difference' if index == marker_indices[0] else \"\")\n",
    "\n",
    "    axs[j].legend(loc='upper right', bbox_to_anchor=(1.20, 1))\n",
    "    axs[j].set_ylabel(f'{emotion.capitalize()}', fontsize=12)\n",
    "    axs[j].set_xlabel('Date', fontsize=12)\n",
    "\n",
    "plt.tight_layout()\n",
    "plt.show()\n"
   ],
   "metadata": {
    "collapsed": false,
    "pycharm": {
     "name": "#%%\n"
    }
   }
  },
  {
   "cell_type": "code",
   "execution_count": null,
   "outputs": [],
   "source": [
    "import pandas as pd\n",
    "import numpy as np\n",
    "import matplotlib.pyplot as plt\n",
    "\n",
    "# Set default plotting style\n",
    "plt.style.use('default')\n",
    "\n",
    "# --- Define emotions and corresponding colors ---\n",
    "emotions = ['fear', 'sadness', 'anger', 'joy', 'disgust', 'surprise']\n",
    "colors = ['blue', 'orange', 'red', 'green', 'purple', 'brown']\n",
    "\n",
    "# --- Create subplots: one for each emotion ---\n",
    "fig, axs = plt.subplots(len(emotions), 1, figsize=(12, 2.8 * len(emotions)))\n",
    "\n",
    "for j, emotion in enumerate(emotions):\n",
    "    ax = axs[j]\n",
    "\n",
    "    # --- Prepare HCP data ---\n",
    "    hcp_df = grouped_hcp[['year', 'month', f'{emotion}_mean', f'{emotion}_ci_lower', f'{emotion}_ci_upper']].copy()\n",
    "    hcp_df['date'] = pd.to_datetime(hcp_df['year'].astype(str) + '-' + hcp_df['month'].astype(str))\n",
    "\n",
    "    # --- Prepare General Population data ---\n",
    "    general_df = grouped_general[['year', 'month', f'{emotion}_mean', f'{emotion}_ci_lower', f'{emotion}_ci_upper']].copy()\n",
    "    general_df['date'] = pd.to_datetime(general_df['year'].astype(str) + '-' + general_df['month'].astype(str))\n",
    "\n",
    "    # --- Plot Confidence Intervals (CI) ---\n",
    "    ax.fill_between(hcp_df['date'], hcp_df[f'{emotion}_ci_lower'], hcp_df[f'{emotion}_ci_upper'],\n",
    "                    color=colors[j], alpha=0.3)\n",
    "    ax.fill_between(general_df['date'], general_df[f'{emotion}_ci_lower'], general_df[f'{emotion}_ci_upper'],\n",
    "                    color=colors[j], alpha=0.3)\n",
    "\n",
    "    # --- Plot Emotion Trends ---\n",
    "    ax.plot(hcp_df['date'], hcp_df[f'{emotion}_mean'], color=colors[j], label='HCWs')\n",
    "    ax.plot(general_df['date'], general_df[f'{emotion}_mean'], color=colors[j], linestyle='--', label='Non-HCWs')\n",
    "\n",
    "    # --- Plot significance markers ---\n",
    "    marker_indices = emotion_markers.get(emotion, [])\n",
    "    if marker_indices:\n",
    "        max_y = max(hcp_df[f'{emotion}_mean'].max(), general_df[f'{emotion}_mean'].max()) * 1.1\n",
    "        for idx, index in enumerate(marker_indices):\n",
    "            if index < len(hcp_df):\n",
    "                label = 'Statistically Significant Difference' if idx == 0 else \"\"\n",
    "                ax.plot(hcp_df['date'].iloc[index], max_y, color='black', marker='^', linestyle='', label=label)\n",
    "\n",
    "    # --- Axis formatting ---\n",
    "    ax.set_ylabel(emotion.capitalize(), fontsize=15)\n",
    "    ax.set_xlabel('Date', fontsize=15)\n",
    "    ax.tick_params(axis='both', labelsize=14)\n",
    "    ax.set_xlim([hcp_df['date'].min(), hcp_df['date'].max()])\n",
    "    ax.legend(loc='upper right', bbox_to_anchor=(1.15, 1))\n",
    "\n",
    "# --- Final layout and show ---\n",
    "plt.tight_layout()\n",
    "plt.show()\n"
   ],
   "metadata": {
    "collapsed": false,
    "pycharm": {
     "name": "#%%\n"
    }
   }
  },
  {
   "cell_type": "code",
   "execution_count": null,
   "outputs": [],
   "source": [
    "import pandas as pd\n",
    "import numpy as np\n",
    "import matplotlib.pyplot as plt\n",
    "\n",
    "# Set default plotting style\n",
    "plt.style.use('default')\n",
    "\n",
    "# --- Define emotions and colors ---\n",
    "emotions = ['fear', 'sadness', 'anger', 'joy', 'disgust', 'surprise']\n",
    "colors = ['blue', 'orange', 'red', 'green', 'purple', 'brown']\n",
    "\n",
    "# --- Create subplots ---\n",
    "# fig, axs = plt.subplots(len(emotions), 1, figsize=(12, 2.8 * len(emotions)))\n",
    "fig, axs = plt.subplots(len(emotions), 1, figsize=(14, 3 * len(emotions)))\n",
    "\n",
    "for j, emotion in enumerate(emotions):\n",
    "    ax = axs[j]\n",
    "\n",
    "    # --- Prepare HCP data ---\n",
    "    hcp_mean = grouped_hcp[['year', 'month', f'{emotion}_mean', f'{emotion}_ci_lower', f'{emotion}_ci_upper']].copy()\n",
    "    hcp_mean['date'] = pd.to_datetime(hcp_mean['year'].astype(str) + '-' + hcp_mean['month'].astype(str))\n",
    "\n",
    "    # --- Prepare general population data ---\n",
    "    general_mean = grouped_general[['year', 'month', f'{emotion}_mean', f'{emotion}_ci_lower', f'{emotion}_ci_upper']].copy()\n",
    "    general_mean['date'] = pd.to_datetime(general_mean['year'].astype(str) + '-' + general_mean['month'].astype(str))\n",
    "\n",
    "    # --- Plot confidence intervals ---\n",
    "    ax.fill_between(hcp_mean['date'], hcp_mean[f'{emotion}_ci_lower'], hcp_mean[f'{emotion}_ci_upper'],\n",
    "                    color=colors[j], alpha=0.3)\n",
    "    ax.fill_between(general_mean['date'], general_mean[f'{emotion}_ci_lower'], general_mean[f'{emotion}_ci_upper'],\n",
    "                    color=colors[j], alpha=0.3)\n",
    "\n",
    "    # --- Plot mean lines ---\n",
    "    ax.plot(hcp_mean['date'], hcp_mean[f'{emotion}_mean'], color=colors[j], label='HCWs')\n",
    "    ax.plot(general_mean['date'], general_mean[f'{emotion}_mean'], color=colors[j], linestyle='--', label='Non-HCWs')\n",
    "\n",
    "    # --- Plot significant difference markers ---\n",
    "    marker_indices = emotion_markers.get(emotion, [])\n",
    "    if marker_indices:\n",
    "        max_y = max(hcp_mean[f'{emotion}_mean'].max(), general_mean[f'{emotion}_mean'].max()) * 1.1\n",
    "        for idx, index in enumerate(marker_indices):\n",
    "            if index < len(hcp_mean):\n",
    "                label = 'Statistically Significant Difference' if idx == 0 else \"\"\n",
    "                ax.plot(hcp_mean['date'].iloc[index], max_y, color='black', marker='^', linestyle='', label=label)\n",
    "\n",
    "    # --- Axis formatting ---\n",
    "    ax.set_ylabel(emotion.capitalize(), fontsize=15)\n",
    "    ax.set_xlabel('Date', fontsize=15)\n",
    "    ax.tick_params(axis='both', labelsize=14)\n",
    "    ax.set_xlim([hcp_mean['date'].min(), hcp_mean['date'].max()])\n",
    "    ax.legend(loc='upper right', bbox_to_anchor=(1.30, 1))\n",
    "    # ax.legend(loc='upper center', bbox_to_anchor=(0.5, -0.15), ncol=2)\n",
    "\n",
    "\n",
    "# --- Final layout ---\n",
    "plt.tight_layout()\n",
    "plt.show()\n"
   ],
   "metadata": {
    "collapsed": false,
    "pycharm": {
     "name": "#%%\n"
    }
   }
  },
  {
   "cell_type": "code",
   "execution_count": null,
   "outputs": [],
   "source": [
    "import pandas as pd\n",
    "import numpy as np\n",
    "import matplotlib.pyplot as plt\n",
    "\n",
    "plt.style.use('default')\n",
    "\n",
    "# Define the emotions and colors for plotting\n",
    "emotions = ['fear', 'sadness', 'anger', 'joy', 'disgust', 'surprise']\n",
    "colors = ['blue', 'orange', 'red', 'green', 'purple', 'brown']\n",
    "\n",
    "# Add a 'date' column once, outside the loop (if not already present)\n",
    "if 'date' not in grouped_hcp.columns:\n",
    "    grouped_hcp['date'] = pd.to_datetime(grouped_hcp['year'].astype(str) + '-' + grouped_hcp['month'].astype(str))\n",
    "\n",
    "if 'date' not in grouped_general.columns:\n",
    "    grouped_general['date'] = pd.to_datetime(grouped_general['year'].astype(str) + '-' + grouped_general['month'].astype(str))\n",
    "\n",
    "# Create subplots\n",
    "fig, axs = plt.subplots(len(emotions), 1, figsize=(12, 3 * len(emotions)))\n",
    "\n",
    "for j, emotion in enumerate(emotions):\n",
    "    ax = axs[j]\n",
    "\n",
    "    # Select relevant columns for each group\n",
    "    hcp_df = grouped_hcp[['date', f'{emotion}_mean', f'{emotion}_ci_lower', f'{emotion}_ci_upper']].copy()\n",
    "    general_df = grouped_general[['date', f'{emotion}_mean', f'{emotion}_ci_lower', f'{emotion}_ci_upper']].copy()\n",
    "\n",
    "    # Plot confidence intervals\n",
    "    ax.fill_between(hcp_df['date'], hcp_df[f'{emotion}_ci_lower'], hcp_df[f'{emotion}_ci_upper'], color=colors[j], alpha=0.3)\n",
    "    ax.fill_between(general_df['date'], general_df[f'{emotion}_ci_lower'], general_df[f'{emotion}_ci_upper'], color=colors[j], alpha=0.3)\n",
    "\n",
    "    # Plot means\n",
    "    ax.plot(hcp_df['date'], hcp_df[f'{emotion}_mean'], color=colors[j], label='HCWs')\n",
    "    ax.plot(general_df['date'], general_df[f'{emotion}_mean'], color=colors[j], linestyle='--', label='Non-HCWs')\n",
    "\n",
    "    # Plot significance markers if available\n",
    "    marker_indices = emotion_markers.get(emotion, [])\n",
    "    if marker_indices:\n",
    "        max_y = max(hcp_df[f'{emotion}_mean'].max(), general_df[f'{emotion}_mean'].max()) * 1.1\n",
    "        for idx, marker_index in enumerate(marker_indices):\n",
    "            if marker_index < len(hcp_df):\n",
    "                label = 'Statistically Significant Difference' if idx == 0 else \"\"\n",
    "                ax.plot(hcp_df['date'].iloc[marker_index], max_y, color='black', marker='^', linestyle='', label=label)\n",
    "\n",
    "    # Axis formatting\n",
    "    ax.set_ylabel(emotion.capitalize(), fontsize=15)\n",
    "    ax.set_xlabel('Date', fontsize=15)\n",
    "    ax.tick_params(axis='both', labelsize=14)\n",
    "    ax.set_xlim([hcp_df['date'].min(), hcp_df['date'].max()])\n",
    "    # ax.legend(loc='upper left', bbox_to_anchor=(1.02, 1), borderaxespad=0)\n",
    "\n",
    "# Adjust layout and save figure\n",
    "plt.tight_layout(rect=[0, 0, 0.85, 1])  # leave space for legend\n",
    "# plt.savefig('graph/emotion_trends.png', dpi=300, bbox_inches='tight')\n",
    "plt.show()\n"
   ],
   "metadata": {
    "collapsed": false,
    "pycharm": {
     "name": "#%%\n"
    }
   }
  },
  {
   "cell_type": "code",
   "execution_count": null,
   "id": "c1882e55-8a17-4660-a015-a3e41a01baf2",
   "metadata": {
    "pycharm": {
     "name": "#%%\n",
     "is_executing": true
    }
   },
   "outputs": [],
   "source": [
    "import matplotlib.pyplot as plt\n",
    "\n",
    "# Define the emotions and colors for the legend\n",
    "emotions = ['fear', 'sadness', 'anger', 'joy', 'disgust', 'surprise']\n",
    "colors = ['blue', 'orange', 'red', 'green', 'purple', 'brown']\n",
    "\n",
    "# Create an empty figure with subplots for each emotion\n",
    "fig, axs = plt.subplots(len(emotions), 1, figsize=(10, 2*(len(emotions) + 1)))\n",
    "\n",
    "# Generate a dummy plot for each emotion and show only the legend\n",
    "for j, emotion in enumerate(emotions):\n",
    "    # Create dummy plots just for the legend\n",
    "    axs[j].plot([], [], color=colors[j], label=f'HCPs - {emotion.capitalize()}')\n",
    "    axs[j].plot([], [], color=colors[j], linestyle='--', label=f'Non-HCPs - {emotion.capitalize()}')\n",
    "    axs[j].plot([], [], color='black', linestyle='', marker='^', label='Statistically Significant Difference')\n",
    "\n",
    "    # Show the legend for each subplot without actual plot data\n",
    "    axs[j].legend(loc='center left', bbox_to_anchor=(-0.2, 0.5), fontsize=12)\n",
    "\n",
    "    # Remove the axes to only show the legend\n",
    "    axs[j].set_axis_off()\n",
    "\n",
    "plt.tight_layout()\n",
    "# plt.savefig('graph/emotion_trends_label_HCPs.png', dpi=300, bbox_inches='tight')\n",
    "plt.show()"
   ]
  },
  {
   "cell_type": "code",
   "execution_count": 14,
   "id": "a6809d11-ce72-4897-8dd6-31c3257b6ce2",
   "metadata": {
    "pycharm": {
     "name": "#%%\n"
    }
   },
   "outputs": [
    {
     "name": "stderr",
     "output_type": "stream",
     "text": [
      "/tmp/ipykernel_1508739/1322026105.py:8: FutureWarning: 'M' is deprecated and will be removed in a future version, please use 'ME' instead.\n",
      "  overall_weekly_high = numeric_df.resample(grouped).quantile(quantile_up, interpolation='lower')\n",
      "/tmp/ipykernel_1508739/1322026105.py:9: FutureWarning: 'M' is deprecated and will be removed in a future version, please use 'ME' instead.\n",
      "  overall_weekly_low = numeric_df.resample(grouped).quantile(quantile_low, interpolation='lower')\n",
      "/tmp/ipykernel_1508739/1322026105.py:10: FutureWarning: 'M' is deprecated and will be removed in a future version, please use 'ME' instead.\n",
      "  overall_weekly_avg = numeric_df.resample(grouped).mean()\n",
      "/tmp/ipykernel_1508739/1322026105.py:11: FutureWarning: 'M' is deprecated and will be removed in a future version, please use 'ME' instead.\n",
      "  overall_weekly_std = numeric_df.resample(grouped).std()\n",
      "/tmp/ipykernel_1508739/1322026105.py:12: FutureWarning: 'M' is deprecated and will be removed in a future version, please use 'ME' instead.\n",
      "  overall_weekly_median = numeric_df.resample(grouped).median()\n"
     ]
    }
   ],
   "source": [
    "def calculate_df_quantile_per_tweet(df, quantile_up, quantile_low, grouped='W'):\n",
    "    df['date'] = pd.to_datetime(df['date'])\n",
    "    df.set_index('date', inplace=True)\n",
    "    \n",
    "    # Select only numeric columns for quantile calculation\n",
    "    numeric_df = df.select_dtypes(include=[np.number])\n",
    "    \n",
    "    overall_weekly_high = numeric_df.resample(grouped).quantile(quantile_up, interpolation='lower')\n",
    "    overall_weekly_low = numeric_df.resample(grouped).quantile(quantile_low, interpolation='lower')\n",
    "    overall_weekly_avg = numeric_df.resample(grouped).mean()\n",
    "    overall_weekly_std = numeric_df.resample(grouped).std()\n",
    "    overall_weekly_median = numeric_df.resample(grouped).median()\n",
    "    overall_weekly_median.columns = ['median_' + col for col in overall_weekly_median.columns]\n",
    "\n",
    "    \n",
    "    # Rename the columns in each DataFrame to have unique names\n",
    "    overall_weekly_high.columns = ['high_' + col for col in overall_weekly_high.columns]\n",
    "    overall_weekly_low.columns = ['low_' + col for col in overall_weekly_low.columns]\n",
    "    overall_weekly_avg.columns = ['avg_' + col for col in overall_weekly_avg.columns]\n",
    "    overall_weekly_std.columns = ['std_' + col for col in overall_weekly_avg.columns]\n",
    "\n",
    "    # Now concatenate them\n",
    "    overall_weekly_stats = pd.concat([overall_weekly_high, overall_weekly_low, overall_weekly_avg, overall_weekly_median, overall_weekly_std], axis=1)\n",
    "    return overall_weekly_stats\n",
    "\n",
    "overall_weekly_stats_g = calculate_df_quantile_per_tweet(general_avg_user, 0.75, 0.25, 'M')#0.30, 0.20\n"
   ]
  },
  {
   "cell_type": "markdown",
   "id": "5b4ad60f-0b27-4aed-b1f9-41cc9cba8f3e",
   "metadata": {
    "pycharm": {
     "name": "#%% md\n"
    }
   },
   "source": [
    "#calculate p value"
   ]
  },
  {
   "cell_type": "code",
   "execution_count": 17,
   "id": "a6ee16b2-3760-47ed-b886-5a258b6e0a49",
   "metadata": {
    "pycharm": {
     "name": "#%%\n"
    }
   },
   "outputs": [
    {
     "name": "stderr",
     "output_type": "stream",
     "text": [
      "/tmp/ipykernel_1508739/3239723952.py:1: FutureWarning: 'M' is deprecated and will be removed in a future version, please use 'ME' instead.\n",
      "  hcp_avg_user = final_h.groupby('screen_name').resample('M').mean()\n",
      "/tmp/ipykernel_1508739/3239723952.py:2: FutureWarning: 'M' is deprecated and will be removed in a future version, please use 'ME' instead.\n",
      "  general_avg_user = final_df.groupby('screen_name').resample('M').mean()\n"
     ]
    }
   ],
   "source": [
    "\n",
    "\n",
    "\n",
    "\n",
    "hcp_avg_user = final_h.groupby('screen_name').resample('M').mean()\n",
    "general_avg_user = final_df.groupby('screen_name').resample('M').mean()\n",
    "hcp_avg_user = hcp_avg_user.reset_index()\n",
    "general_avg_user = general_avg_user.reset_index()\n",
    "\n"
   ]
  },
  {
   "cell_type": "code",
   "execution_count": 21,
   "id": "d41be552-74e4-401f-aeef-ceeb13bd113d",
   "metadata": {
    "pycharm": {
     "name": "#%%\n"
    }
   },
   "outputs": [],
   "source": [
    "import scipy.stats as stats\n",
    "import pandas as pd\n",
    "from statsmodels.sandbox.stats.multicomp import multipletests\n",
    "\n",
    "emotions = {'joy':[], 'sadness':[], 'anger':[], 'surprise':[], 'disgust':[], 'fear':[]}\n",
    "date_idx= overall_weekly_stats_g.index.tolist()\n",
    "p_values = []\n",
    "tests_used = []\n",
    "\n",
    "alpha = 0.05/len(date_idx)\n",
    "\n",
    "for emotion in emotions.keys():\n",
    "    for date_id in date_idx:\n",
    "        # Filter data for each emotion and each population\n",
    "        data1 = hcp_avg_user[hcp_avg_user['date'] == date_id][emotion].dropna().tolist()\n",
    "        data2 = general_avg_user[general_avg_user['date'] == date_id][emotion].dropna().tolist()\n",
    "        \n",
    "\n",
    "        # Check normality\n",
    "        _, p1 = stats.shapiro(data1)\n",
    "        _, p2 = stats.shapiro(data2)\n",
    "\n",
    "        if p1 > 0.05 and p2 > 0.05:  # both samples are normally distributed\n",
    "            _, p_value = stats.ttest_ind(data1, data2)\n",
    "            test_used = 'Independent t-test'\n",
    "        else:  # use non-parametric test\n",
    "            _, p_value = stats.mannwhitneyu(data1, data2)\n",
    "            test_used = 'Mann-Whitney U Test'\n",
    "        result = p_value<alpha\n",
    "        emotions[emotion].append([result,p_value,test_used])\n",
    "        p_values.append(p_value)\n",
    "        tests_used.append(test_used)\n",
    "\n",
    "# Calculate the number of tests\n",
    "# number_of_tests =len(date_idx)\n",
    "\n",
    "# # Correct for multiple comparisons using the Bonferroni method\n",
    "# corrected_p_values = multipletests(p_values, alpha=0.05 / number_of_tests, method='bonferroni')[1]\n",
    "\n",
    "# # Interpret the results\n",
    "# for emotion, test, p_value in zip(emotions, tests_used, corrected_p_values):\n",
    "#     if p_value < (0.05 / number_of_tests):  # Use the Bonferroni-adjusted alpha level\n",
    "#         print(f\"There is a significant difference in {emotion} between the two populations (Test: {test}, p={p_value})\")\n",
    "#     else:\n",
    "#         print(f\"There is no significant difference in {emotion} between the two populations (Test: {test}, p={p_value:.4f})\")"
   ]
  },
  {
   "cell_type": "code",
   "execution_count": 28,
   "id": "079afe7f-2d8b-4647-9cc4-d88b94d09adc",
   "metadata": {
    "pycharm": {
     "name": "#%%\n"
    }
   },
   "outputs": [],
   "source": [
    "# Prepare data for DataFrame\n",
    "rows = []\n",
    "dates_lst = [ i - pd.offsets.MonthEnd(1) + pd.DateOffset(days=1) for i in date_idx]\n",
    "for emotion, values in emotions.items():\n",
    "    idx = 0\n",
    "    for value in values:\n",
    "        date = dates_lst[idx]\n",
    "        result, p_value, test_used = value\n",
    "        rows.append({\"Emotion\": emotion, \"Result\": result, \"P-value\": p_value, \"Test Used\": test_used,\"Dates\":date})\n",
    "        idx+=1\n",
    "\n",
    "# Convert to DataFrame\n",
    "df = pd.DataFrame(rows)\n",
    "\n",
    "# Save to Excel\n",
    "df.to_excel(\"emotions_results_p_value.xlsx\", index=False)\n"
   ]
  },
  {
   "cell_type": "code",
   "execution_count": null,
   "id": "50d288c9-8314-492f-90a0-7498a8fafac4",
   "metadata": {
    "pycharm": {
     "name": "#%%\n"
    }
   },
   "outputs": [],
   "source": []
  }
 ],
 "metadata": {
  "kernelspec": {
   "display_name": "mmat_new",
   "language": "python",
   "name": "mmat"
  },
  "language_info": {
   "codemirror_mode": {
    "name": "ipython",
    "version": 3
   },
   "file_extension": ".py",
   "mimetype": "text/x-python",
   "name": "python",
   "nbconvert_exporter": "python",
   "pygments_lexer": "ipython3",
   "version": "3.13.3"
  }
 },
 "nbformat": 4,
 "nbformat_minor": 5
}