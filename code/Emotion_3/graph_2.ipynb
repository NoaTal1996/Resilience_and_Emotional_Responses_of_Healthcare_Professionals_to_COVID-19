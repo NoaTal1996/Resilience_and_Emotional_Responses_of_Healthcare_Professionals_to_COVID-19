{
 "cells": [
  {
   "cell_type": "markdown",
   "id": "aef4aa4f-7f50-4d91-b094-c9da077683e8",
   "metadata": {
    "pycharm": {
     "name": "#%% md\n"
    }
   },
   "source": [
    "# Install\n"
   ]
  },
  {
   "cell_type": "code",
   "execution_count": 7,
   "id": "1caa0209-cbd2-4e2a-ae72-ea76cfad434f",
   "metadata": {
    "pycharm": {
     "name": "#%%\n"
    }
   },
   "outputs": [],
   "source": [
    "import pandas as pd\n",
    "from datetime import datetime\n",
    "import numpy as np\n"
   ]
  },
  {
   "cell_type": "markdown",
   "id": "c44c5325-003d-42ec-8ede-c1ba9fdc6133",
   "metadata": {
    "pycharm": {
     "name": "#%% md\n"
    }
   },
   "source": [
    "# Load Data"
   ]
  },
  {
   "cell_type": "code",
   "execution_count": null,
   "id": "5bda9e3d-c108-416c-9a3a-36d9a542f824",
   "metadata": {
    "pycharm": {
     "name": "#%%\n"
    }
   },
   "outputs": [],
   "source": [
    "hcp_stats = pd.read_csv('Data_2/hcp_stats_graph2.csv')\n",
    "general_stats = pd.read_csv('Data_2/nonhcp_stats_graph2.csv')\n"
   ]
  },
  {
   "cell_type": "code",
   "execution_count": null,
   "id": "b9f244c4-129b-43a9-960e-4aebba348f24",
   "metadata": {
    "pycharm": {
     "name": "#%%\n"
    }
   },
   "outputs": [],
   "source": []
  },
  {
   "cell_type": "code",
   "execution_count": null,
   "id": "fb4504d0-3304-487b-8cb8-baa531375b05",
   "metadata": {
    "pycharm": {
     "name": "#%%\n"
    }
   },
   "outputs": [],
   "source": [
    " # Formatting output to match the style of the image\n",
    "def format_output(stats_df, group_name):\n",
    "    for index, row in stats_df.iterrows():\n",
    "        print(f\"The top 5 themes for {group_name} in {row['phase']} were:\")\n",
    "        print(f\"- Joy: 95% CI [{row['joy_95ci'][0]:.3f}, {row['joy_95ci'][1]:.3f}]\")\n",
    "        print(f\"- Sadness: 95% CI [{row['sadness_95ci'][0]:.3f}, {row['sadness_95ci'][1]:.3f}]\")\n",
    "        print(f\"- Anger: 95% CI [{row['anger_95ci'][0]:.3f}, {row['anger_95ci'][1]:.2f}]\")\n",
    "        print(f\"- Surprise: 95% CI [{row['surprise_95ci'][0]:.3f}, {row['surprise_95ci'][1]:.3f}]\")\n",
    "        print(f\"- Disgust: 95% CI [{row['disgust_95ci'][0]:.3f}, {row['disgust_95ci'][1]:.3f}]\")\n",
    "        print(f\"- Fear: 95% CI [{row['fear_95ci'][0]:.3f}, {row['fear_95ci'][1]:.3f}]\\n\")\n",
    "\n",
    "# Output the formatted statistics\n",
    "format_output(hcp_stats, 'HCP Population')\n",
    "format_output(general_stats, 'General Population')\n"
   ]
  },
  {
   "cell_type": "code",
   "execution_count": 34,
   "id": "ae2c4701-9e40-49e6-a26c-2a5a7e5bfda5",
   "metadata": {
    "pycharm": {
     "name": "#%%\n"
    }
   },
   "outputs": [],
   "source": [
    "df=  pd.concat([\n",
    "    hcp_stats.assign(group='HCP Population'),\n",
    "    general_stats.assign(group='General Population')\n",
    "], ignore_index=True)"
   ]
  },
  {
   "cell_type": "code",
   "execution_count": null,
   "outputs": [],
   "source": [
    "colors = {'HCP Population': 'blue',  'General Population': 'green'}\n",
    "colors['General Population']"
   ],
   "metadata": {
    "collapsed": false,
    "pycharm": {
     "name": "#%%\n"
    }
   }
  },
  {
   "cell_type": "code",
   "execution_count": 36,
   "id": "1f771da5-4599-4ef2-8547-32118ddd92b1",
   "metadata": {
    "pycharm": {
     "name": "#%%\n"
    }
   },
   "outputs": [],
   "source": [
    "colors = {'HCP Population': 'blue',  'General Population': 'green'}\n",
    "colors['General Population']\n",
    "\n",
    "\n",
    "df['group'] = df['group'].replace('HCP Population', 'HWFs')\n",
    "df['group'] = df['group'].replace('General Population', 'Non-HWFs')\n",
    "df['phase'] = df['phase'].replace('Before COVID Phases', 'Before COVID')"
   ]
  },
  {
   "cell_type": "code",
   "execution_count": null,
   "outputs": [],
   "source": [
    "import pandas as pd\n",
    "import numpy as np\n",
    "from scipy.stats import t\n",
    "import matplotlib.pyplot as plt\n",
    "\n",
    "# Define colors for consistency, including 'General Population' if needed\n",
    "colors = {'HWFs': 'blue', 'Non-HWFs': 'green'}\n",
    "\n",
    "# Define phases and their corresponding dates (for time index if needed)\n",
    "phases = ['Before COVID', 'Phase 1', 'Phase 2', 'Phase 3', 'Phase 4']\n",
    "phase_dates = ['2019-01-01', '2020-03-01', '2020-11-01', '2021-05-01', '2022-01-01']\n",
    "\n",
    "# Convert 'phase' to an ordered categorical variable to ensure the correct order\n",
    "df['phase'] = pd.Categorical(df['phase'], categories=phases, ordered=True)\n",
    "\n",
    "# Ensure all phases are present\n",
    "print(\"Phases present in the data:\", df['phase'].unique())\n",
    "\n",
    "# Global font size settings (for all text elements)\n",
    "plt.rcParams.update({'font.size': 14})  # Set global font size for the plot\n",
    "\n",
    "# Plotting each emotion with CI lines\n",
    "plt.figure(figsize=(20, 12))  # Update the figure size to be more appropriate for 2x3 layout\n",
    "# Update the subplot configuration to 2 rows and 3 columns\n",
    "for i, emotion in enumerate(['fear', 'sadness', 'anger', 'joy', 'disgust', 'surprise'], 1):\n",
    "    plt.subplot(2, 3, i)\n",
    "\n",
    "    for group in df['group'].unique():\n",
    "        group_df = df[df['group'] == group]\n",
    "        mean_values = group_df[f'{emotion}_mean']\n",
    "        ci_lower = group_df[f'{emotion}_95ci'].apply(lambda x: x[0])\n",
    "        ci_upper = group_df[f'{emotion}_95ci'].apply(lambda x: x[1])\n",
    "\n",
    "        # Use 'phase' for the x-axis\n",
    "        plt.plot(group_df['phase'], mean_values, label=f'{group}', marker='o', color=colors[group], linestyle='none')\n",
    "\n",
    "        # Calculate error bars using absolute values to avoid negative errors\n",
    "        yerr = np.abs([mean_values - ci_lower, ci_upper - mean_values])\n",
    "\n",
    "        plt.errorbar(group_df['phase'], mean_values,\n",
    "                     yerr=yerr,\n",
    "                     fmt='o', capsize=5, capthick=3, linestyle='none', linewidth=1.5, color=colors[group])\n",
    "\n",
    "    # Set font sizes for titles and labels\n",
    "    plt.title(r'$\\bf{' + emotion.capitalize() + '}$', fontsize=18)  # Title font size\n",
    "    plt.xlabel('Phases', fontsize=18)  # X-axis label font size\n",
    "    plt.ylabel(f'Mean with 95% CI', fontsize=18)  # Y-axis label font size\n",
    "    plt.legend(loc='best', fontsize=14)\n",
    "  # Legend font size\n",
    "    plt.grid(False)\n",
    "    plt.xticks(rotation=0, fontsize=14)  # X-tick label font size (phases)\n",
    "    plt.yticks(fontsize=14)  # Y-tick label font size\n",
    "\n",
    "# Adjust spacing between subplots to avoid overlap\n",
    "plt.subplots_adjust(left=0.05, right=0.95, top=0.95, bottom=0.05, wspace=0.3, hspace=0.5)\n",
    "\n",
    "# Final layout adjustments\n",
    "plt.tight_layout()\n",
    "plt.savefig('graph/fig2_HWFs.png', dpi=300, bbox_inches='tight')\n",
    "\n",
    "plt.show()\n"
   ],
   "metadata": {
    "collapsed": false,
    "pycharm": {
     "name": "#%%\n"
    }
   }
  },
  {
   "cell_type": "code",
   "execution_count": null,
   "outputs": [],
   "source": [
    "import pandas as pd\n",
    "import numpy as np\n",
    "from scipy.stats import t\n",
    "import matplotlib.pyplot as plt\n",
    "\n",
    "# Define colors for consistency, including 'General Population' if needed\n",
    "colors = {'HCWs': 'blue', 'Non-HCWs': 'green'}\n",
    "\n",
    "# Define phases and their corresponding dates (for time index if needed)\n",
    "phases = ['Before COVID', 'Phase 1', 'Phase 2', 'Phase 3', 'Phase 4']\n",
    "phase_dates = ['2019-01-01', '2020-03-01', '2020-11-01', '2021-05-01', '2022-01-01']\n",
    "\n",
    "# Convert 'phase' to an ordered categorical variable to ensure the correct order\n",
    "df['phase'] = pd.Categorical(df['phase'], categories=phases, ordered=True)\n",
    "\n",
    "# Ensure all phases are present\n",
    "print(\"Phases present in the data:\", df['phase'].unique())\n",
    "\n",
    "# Global font size settings (for all text elements)\n",
    "plt.rcParams.update({'font.size': 14})  # Set global font size for the plot\n",
    "\n",
    "# Plotting each emotion with CI lines\n",
    "plt.figure(figsize=(20, 12))  # Update the figure size to be more appropriate for 2x3 layout\n",
    "# Update the subplot configuration to 2 rows and 3 columns\n",
    "for i, emotion in enumerate(['fear', 'sadness', 'anger', 'joy', 'disgust', 'surprise'], 1):\n",
    "    plt.subplot(2, 3, i)\n",
    "\n",
    "    for group in df['group'].unique():\n",
    "        group_df = df[df['group'] == group]\n",
    "        mean_values = group_df[f'{emotion}_mean']\n",
    "        ci_lower = group_df[f'{emotion}_95ci'].apply(lambda x: x[0])\n",
    "        ci_upper = group_df[f'{emotion}_95ci'].apply(lambda x: x[1])\n",
    "\n",
    "        # Use 'phase' for the x-axis\n",
    "        plt.plot(group_df['phase'], mean_values, label=f'{group}', marker='o', color=colors[group], linestyle='none')\n",
    "\n",
    "        # Calculate error bars using absolute values to avoid negative errors\n",
    "        yerr = np.abs([mean_values - ci_lower, ci_upper - mean_values])\n",
    "\n",
    "        plt.errorbar(group_df['phase'], mean_values,\n",
    "                     yerr=yerr,\n",
    "                     fmt='o', capsize=5, capthick=3, linestyle='none', linewidth=1.5, color=colors[group])\n",
    "\n",
    "    # Set font sizes for titles and labels\n",
    "    plt.title(r'$\\bf{' + emotion.capitalize() + '}$', fontsize=18)  # Title font size\n",
    "    plt.xlabel('Phases', fontsize=18)  # X-axis label font size\n",
    "    plt.ylabel(f'Mean with 95% CI', fontsize=18)  # Y-axis label font size\n",
    "    plt.legend(loc='best', fontsize=14)\n",
    "  # Legend font size\n",
    "    plt.grid(False)\n",
    "    plt.xticks(rotation=0, fontsize=14)  # X-tick label font size (phases)\n",
    "    plt.yticks(fontsize=14)  # Y-tick label font size\n",
    "\n",
    "# Adjust spacing between subplots to avoid overlap\n",
    "plt.subplots_adjust(left=0.05, right=0.95, top=0.95, bottom=0.05, wspace=0.3, hspace=0.5)\n",
    "\n",
    "# Final layout adjustments\n",
    "plt.tight_layout()\n",
    "plt.show()\n"
   ],
   "metadata": {
    "collapsed": false,
    "pycharm": {
     "name": "#%%\n"
    }
   }
  },
  {
   "cell_type": "code",
   "execution_count": null,
   "outputs": [],
   "source": [
    "import pandas as pd\n",
    "import numpy as np\n",
    "from scipy.stats import t\n",
    "import matplotlib.pyplot as plt\n",
    "\n",
    "# Define colors for consistency, including 'General Population' if needed\n",
    "colors = {'HCWs': 'blue', 'Non-HCWs': 'green'}\n",
    "\n",
    "# Define phases and their corresponding dates (for time index if needed)\n",
    "phases = ['Before COVID', 'Phase 1', 'Phase 2', 'Phase 3', 'Phase 4']\n",
    "phase_dates = ['2019-01-01', '2020-03-01', '2020-11-01', '2021-05-01', '2022-01-01']\n",
    "\n",
    "# Convert 'phase' to an ordered categorical variable to ensure the correct order\n",
    "df['phase'] = pd.Categorical(df['phase'], categories=phases, ordered=True)\n",
    "\n",
    "# Ensure all phases are present\n",
    "print(\"Phases present in the data:\", df['phase'].unique())\n",
    "\n",
    "# Global font size settings (for all text elements)\n",
    "plt.rcParams.update({'font.size': 12})  # Set global font size for the plot\n",
    "\n",
    "# Define the emotions and colors\n",
    "emotions = ['fear', 'sadness', 'anger', 'joy', 'disgust', 'surprise']\n",
    "\n",
    "# Create subplots, with one row per emotion and set figsize here\n",
    "fig, axs = plt.subplots(len(emotions), 1, figsize=(7, 20))\n",
    "\n",
    "# Plotting each emotion with CI lines\n",
    "for j, emotion in enumerate(emotions):\n",
    "\n",
    "    for group in df['group'].unique():\n",
    "        group_df = df[df['group'] == group]\n",
    "        mean_values = group_df[f'{emotion}_mean']\n",
    "        ci_lower = group_df[f'{emotion}_95ci'].apply(lambda x: x[0])\n",
    "        ci_upper = group_df[f'{emotion}_95ci'].apply(lambda x: x[1])\n",
    "\n",
    "        # Use 'phase' for the x-axis\n",
    "        axs[j].plot(group_df['phase'], mean_values, label=f'{group}', marker='o', color=colors[group], linestyle='none')\n",
    "\n",
    "        # Calculate error bars using absolute values to avoid negative errors\n",
    "        yerr = np.abs([mean_values - ci_lower, ci_upper - mean_values])\n",
    "\n",
    "        axs[j].errorbar(group_df['phase'], mean_values,\n",
    "                        yerr=yerr,\n",
    "                        fmt='o', capsize=5, capthick=2, linestyle='none', linewidth=1.5, color=colors[group])\n",
    "\n",
    "    # Set font sizes for titles and labels\n",
    "    axs[j].set_title(r'$\\bf{' + emotion.capitalize() + '}$', fontsize=16)  # Title font size\n",
    "    axs[j].set_xlabel('Phases', fontsize=14)  # X-axis label font size\n",
    "    axs[j].set_ylabel(f'Mean with 95% CI', fontsize=14)  # Y-axis label font size\n",
    "    axs[j].tick_params(axis='x', rotation=0, labelsize=12)  # X-tick label font size (phases)\n",
    "    axs[j].tick_params(axis='y', labelsize=12)  # Y-tick label font size\n",
    "\n",
    "    # Place legend outside of the plot\n",
    "    axs[j].legend(loc='center left', bbox_to_anchor=(1, 0.5), fontsize=12)\n",
    "\n",
    "# Adjust spacing between subplots to avoid overlap\n",
    "plt.subplots_adjust(left=0.1, right=0.85, top=0.95, bottom=0.05, hspace=0.5)\n",
    "\n",
    "# Final layout adjustments\n",
    "plt.tight_layout()\n",
    "plt.show()\n"
   ],
   "metadata": {
    "collapsed": false,
    "pycharm": {
     "name": "#%%\n"
    }
   }
  },
  {
   "cell_type": "code",
   "execution_count": null,
   "id": "5119b69a-449c-4cd5-943b-1f69b64cb3a4",
   "metadata": {
    "pycharm": {
     "name": "#%%\n"
    }
   },
   "outputs": [],
   "source": []
  }
 ],
 "metadata": {
  "kernelspec": {
   "display_name": "mmat_new",
   "language": "python",
   "name": "mmat"
  },
  "language_info": {
   "codemirror_mode": {
    "name": "ipython",
    "version": 3
   },
   "file_extension": ".py",
   "mimetype": "text/x-python",
   "name": "python",
   "nbconvert_exporter": "python",
   "pygments_lexer": "ipython3",
   "version": "3.13.3"
  }
 },
 "nbformat": 4,
 "nbformat_minor": 5
}