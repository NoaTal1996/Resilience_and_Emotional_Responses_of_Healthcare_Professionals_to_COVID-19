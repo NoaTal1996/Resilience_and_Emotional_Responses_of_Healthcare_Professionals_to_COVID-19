{
 "cells": [
  {
   "cell_type": "markdown",
   "id": "36b4ea78-19aa-4360-aeb0-c81c482b496e",
   "metadata": {
    "pycharm": {
     "name": "#%% md\n"
    }
   },
   "source": [
    "# Import"
   ]
  },
  {
   "cell_type": "code",
   "execution_count": null,
   "id": "4e1e2947-ae8b-4ac0-babb-93830b9d59e9",
   "metadata": {
    "pycharm": {
     "name": "#%%\n"
    }
   },
   "outputs": [],
   "source": [
    "import numpy as np\n",
    "import pandas as pd\n",
    "import sqlite3 as sql\n",
    "import os\n",
    "import math\n",
    "from pysentimiento import create_analyzer\n",
    "from transformers import pipeline\n"
   ]
  },
  {
   "cell_type": "markdown",
   "source": [
    "# Read Data"
   ],
   "metadata": {
    "collapsed": false,
    "pycharm": {
     "name": "#%% md\n"
    }
   }
  },
  {
   "cell_type": "code",
   "execution_count": null,
   "outputs": [],
   "source": [
    "import pandas as pd\n",
    "\n",
    "# Read the main general tweets file (TSV format)\n",
    "df = pd.read_csv('general_tweets.tsv', sep='\\t')\n",
    "\n",
    "# # Define the folder path and list of CSV file names\n",
    "# output_folder = '/home/noaai/HCP_State_of_Mind_covid_19/new_code_for_artical/general_new/'\n",
    "# file_names = [\n",
    "#     'job1_tweets_emotion_pysentimento.csv',\n",
    "#     'job2_tweets_emotion_pysentimento.csv',\n",
    "#     'job3_tweets_emotion_pysentimento.csv',\n",
    "#     'job4_tweets_emotion_pysentimento.csv',\n",
    "#     'job5_tweets_emotion_pysentimento.csv',\n",
    "#     'job6_tweets_emotion_pysentimento.csv',\n",
    "#     'job7_tweets_emotion_pysentimento.csv',\n",
    "#     'job8_tweets_emotion_pysentimento.csv',\n",
    "#     'job9_tweets_emotion_pysentimento.csv',\n",
    "#     'job10_tweets_emotion_pysentimento.csv',\n",
    "#     'job11_tweets_emotion_pysentimento.csv',\n",
    "#     'job12_tweets_emotion_pysentimento.csv',\n",
    "#     'job13_tweets_emotion_pysentimento.csv',\n",
    "# ]\n",
    "#\n",
    "# # Read and concatenate all emotion CSVs into a single DataFrame\n",
    "# emotion_dfs = [pd.read_csv(f\"{output_folder}{file}\") for file in file_names]\n",
    "# general = pd.concat(emotion_dfs, ignore_index=True)\n"
   ],
   "metadata": {
    "collapsed": false,
    "pycharm": {
     "name": "#%%\n"
    }
   }
  },
  {
   "cell_type": "code",
   "execution_count": null,
   "outputs": [],
   "source": [
    "# Remove rows where 'full_text' is NaN\n",
    "df = df[df['full_text'].notna()]\n",
    "\n",
    "# Remove rows where 'full_text' is an empty string or contains only whitespace\n",
    "df = df[df['full_text'].str.strip() != '']\n"
   ],
   "metadata": {
    "collapsed": false,
    "pycharm": {
     "name": "#%%\n"
    }
   }
  },
  {
   "cell_type": "code",
   "execution_count": null,
   "outputs": [],
   "source": [
    "# Reset index to ensure clean row access\n",
    "df = df.reset_index(drop=True)\n",
    "\n",
    "# Define constants\n",
    "CHUNK_SIZE = 10_000  # Number of rows per chunk\n",
    "OUTPUT_DIR = '/home/noaai/HCP_State_of_Mind_covid_19/new_code_for_artical/general_new'\n",
    "\n",
    "# Initialize the emotion analyzer\n",
    "emotion_analyzer = create_analyzer(task=\"emotion\", lang=\"en\")\n",
    "\n",
    "# Loop over the DataFrame in chunks\n",
    "for chunk_start in range(0, len(df), CHUNK_SIZE):\n",
    "    chunk_end = chunk_start + CHUNK_SIZE\n",
    "    chunk_df = df.iloc[chunk_start:chunk_end]\n",
    "\n",
    "    processed_data = []\n",
    "\n",
    "    for i, row in chunk_df.iterrows():\n",
    "        if i % 1000 == 0:\n",
    "            print(f'Processing row {i}')\n",
    "\n",
    "        text = row['full_text']\n",
    "\n",
    "        try:\n",
    "            result = emotion_analyzer.predict(text)\n",
    "            processed_data.append([\n",
    "                row['screen_name'],\n",
    "                row['created_at'],\n",
    "                row['name'],\n",
    "                row['uid'],\n",
    "                str(row['id_str']),\n",
    "                result.probas['joy'],\n",
    "                result.probas['sadness'],\n",
    "                result.probas['anger'],\n",
    "                result.probas['surprise'],\n",
    "                result.probas['disgust'],\n",
    "                result.probas['fear'],\n",
    "                result.probas['others'],\n",
    "                text\n",
    "            ])\n",
    "        except Exception as e:\n",
    "            # Optionally log the error\n",
    "            continue\n",
    "\n",
    "    # Create a DataFrame from processed rows\n",
    "    result_df = pd.DataFrame(processed_data, columns=[\n",
    "        'screen_name', 'created_at', 'name', 'uid', 'id_str',\n",
    "        'joy_pys', 'sadness_pys', 'anger_pys', 'surprise_pys', 'disgust_pys', 'fear_pys',\n",
    "        'others_pys', 'full_text'\n",
    "    ])\n",
    "\n",
    "    # Build output file path\n",
    "    file_number = chunk_start // CHUNK_SIZE + 1\n",
    "    output_path = os.path.join(OUTPUT_DIR, f'job{file_number}_tweets_emotion_pysentimento.csv')\n",
    "\n",
    "    # Save to CSV (with header if first write)\n",
    "    if os.path.exists(output_path):\n",
    "        result_df.to_csv(output_path, mode='a', header=False, index=False)\n",
    "    else:\n",
    "        result_df.to_csv(output_path, index=False)\n",
    "\n",
    "    print(f'Saved processed chunk to: {output_path}')\n"
   ],
   "metadata": {
    "collapsed": false,
    "pycharm": {
     "name": "#%%\n"
    }
   }
  },
  {
   "cell_type": "code",
   "execution_count": null,
   "outputs": [],
   "source": [
    "\n"
   ],
   "metadata": {
    "collapsed": false,
    "pycharm": {
     "name": "#%%\n"
    }
   }
  },
  {
   "cell_type": "code",
   "execution_count": 13,
   "id": "cb3b6316-da00-487c-aa3f-9e639069956e",
   "metadata": {
    "pycharm": {
     "name": "#%%\n"
    }
   },
   "outputs": [
    {
     "data": {
      "text/plain": [
       "nan"
      ]
     },
     "execution_count": 13,
     "metadata": {},
     "output_type": "execute_result"
    }
   ],
   "source": [
    "row['full_text']"
   ]
  },
  {
   "cell_type": "code",
   "execution_count": null,
   "id": "eabd3f29-7c83-4c98-b591-355be12a2622",
   "metadata": {
    "pycharm": {
     "name": "#%%\n"
    }
   },
   "outputs": [],
   "source": []
  }
 ],
 "metadata": {
  "kernelspec": {
   "display_name": "gpu_env",
   "language": "python",
   "name": "gpu_env"
  },
  "language_info": {
   "codemirror_mode": {
    "name": "ipython",
    "version": 3
   },
   "file_extension": ".py",
   "mimetype": "text/x-python",
   "name": "python",
   "nbconvert_exporter": "python",
   "pygments_lexer": "ipython3",
   "version": "3.9.13"
  }
 },
 "nbformat": 4,
 "nbformat_minor": 5
}