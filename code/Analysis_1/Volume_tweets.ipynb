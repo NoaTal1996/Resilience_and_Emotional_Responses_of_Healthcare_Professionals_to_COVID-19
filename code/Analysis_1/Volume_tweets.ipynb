{
 "cells": [
  {
   "cell_type": "code",
   "execution_count": 1,
   "id": "9a85cf10-f5fc-40a1-90d6-d18da52ba551",
   "metadata": {
    "pycharm": {
     "name": "#%%\n"
    }
   },
   "outputs": [],
   "source": [
    "import pandas as pd\n"
   ]
  },
  {
   "cell_type": "code",
   "execution_count": 2,
   "id": "9e01ad37-64c2-49e1-967a-d1570fee4da8",
   "metadata": {
    "pycharm": {
     "name": "#%%\n"
    }
   },
   "outputs": [],
   "source": [
    "# general = pd.read_csv('///home/noaai/HCP_State_of_Mind_covid_19/pysentimento_tweets_transformer_and_optim/general/job1_tweets_emotion_pysentimento.csv')\n",
    "file_paths = ['job3_tweets_emotion_pysentimento.csv',\n",
    "              'job2_tweets_emotion_pysentimento.csv',\n",
    "              'job13_tweets_emotion_pysentimento.csv',\n",
    "              'job4_tweets_emotion_pysentimento.csv',\n",
    "              'job1_tweets_emotion_pysentimento.csv',\n",
    "              'job12_tweets_emotion_pysentimento.csv',\n",
    "              'job10_tweets_emotion_pysentimento.csv',\n",
    "              'job11_tweets_emotion_pysentimento.csv',\n",
    "              'job7_tweets_emotion_pysentimento.csv',\n",
    "              'job5_tweets_emotion_pysentimento.csv',\n",
    "              'job8_tweets_emotion_pysentimento.csv',\n",
    "              'job6_tweets_emotion_pysentimento.csv',\n",
    "              'job9_tweets_emotion_pysentimento.csv',\n",
    "             'job18_tweets_emotion_pysentimento.csv']\n",
    "OUTPUT_FILE_PATH = '/home/noaai/HCP_State_of_Mind_covid_19/new_code_for_artical/general_new/'\n",
    "# Read each file into a DataFrame and store it in a list\n",
    "dfs = [pd.read_csv(OUTPUT_FILE_PATH+file_path) for file_path in file_paths]\n",
    "\n",
    "# Concatenate all the DataFrames into one\n",
    "general = pd.concat(dfs, ignore_index=True)"
   ]
  },
  {
   "cell_type": "code",
   "execution_count": 3,
   "id": "c69699ff-e1f2-4882-8d41-39a694df897a",
   "metadata": {
    "pycharm": {
     "name": "#%%\n"
    }
   },
   "outputs": [],
   "source": [
    "def filter_emotion(df):\n",
    "    df = df[['screen_name','joy_pys','sadness_pys','anger_pys','surprise_pys','disgust_pys','fear_pys','full_text','created_at']]#,'created_at'\n",
    "    # df['date'] = pd.to_datetime(df['date'])\n",
    "    return df\n",
    "\n",
    "\n",
    "def replace_column_emotion(df):\n",
    "    df.columns = df.columns.str.replace('_pys', '', regex=False)\n",
    "    return df"
   ]
  },
  {
   "cell_type": "code",
   "execution_count": null,
   "id": "53184e35-f7d1-47c5-9141-9a196ddda52f",
   "metadata": {
    "pycharm": {
     "name": "#%%\n"
    }
   },
   "outputs": [],
   "source": [
    "general = filter_emotion(general)\n",
    "general = replace_column_emotion(general)\n",
    "general"
   ]
  },
  {
   "cell_type": "code",
   "execution_count": 5,
   "id": "5011c308-56a0-4587-af9f-8e5c07aaf73c",
   "metadata": {
    "pycharm": {
     "name": "#%%\n"
    }
   },
   "outputs": [],
   "source": [
    "final_df_g = general"
   ]
  },
  {
   "cell_type": "code",
   "execution_count": 6,
   "id": "a3a6836c-449e-4617-a405-e9429c8963f3",
   "metadata": {
    "pycharm": {
     "name": "#%%\n"
    }
   },
   "outputs": [
    {
     "name": "stderr",
     "output_type": "stream",
     "text": [
      "/tmp/ipykernel_52786/2204997096.py:1: DtypeWarning: Columns (5) have mixed types. Specify dtype option on import or set low_memory=False.\n",
      "  HPS = pd.read_csv('///home/noaai/HCP_State_of_Mind_covid_19/pysentimento_tweets_transformer_and_optim/new/job1_tweets_emotion_pysentimento.csv')\n"
     ]
    }
   ],
   "source": [
    "HPS = pd.read_csv('///home/noaai/HCP_State_of_Mind_covid_19/pysentimento_tweets_transformer_and_optim/new/job1_tweets_emotion_pysentimento.csv')"
   ]
  },
  {
   "cell_type": "code",
   "execution_count": 7,
   "id": "2cd0194e-21a4-4a0b-a72c-9085d286dcb6",
   "metadata": {
    "pycharm": {
     "name": "#%%\n"
    }
   },
   "outputs": [],
   "source": [
    "HPS = filter_emotion(HPS)\n",
    "HPS = replace_column_emotion(HPS)"
   ]
  },
  {
   "cell_type": "code",
   "execution_count": null,
   "id": "adedf635-dd03-4c1a-9b3d-cad7c54b5c3e",
   "metadata": {
    "pycharm": {
     "name": "#%%\n"
    }
   },
   "outputs": [],
   "source": [
    "unique_screen_names = pd.read_csv('active_h_90.csv')['screen_name'].tolist()\n",
    "final_h = HPS[HPS['screen_name'].isin(unique_screen_names)]\n",
    "final_h"
   ]
  },
  {
   "cell_type": "code",
   "execution_count": 9,
   "id": "8d6c40d7-851f-4247-a3cd-a55b6e336206",
   "metadata": {
    "pycharm": {
     "name": "#%%\n"
    }
   },
   "outputs": [],
   "source": [
    "from datetime import datetime\n",
    "import numpy as np\n",
    "\n",
    "def convert_date(date_str):\n",
    "    try:\n",
    "        date_obj = datetime.strptime(str(date_str), '%a %b %d %H:%M:%S %z %Y')\n",
    "        return date_obj.strftime('%Y-%m-%d %H:%M:%S')\n",
    "    except (ValueError, TypeError):\n",
    "        return np.nan\n",
    "    \n",
    "def convert_date_df(df):\n",
    "    df['date'] = df['created_at'].apply(convert_date)\n",
    "    df = df.dropna(subset=['date'])\n",
    "    df['date'] = pd.to_datetime(df['date'])\n",
    "\n",
    "    # Create 'year' and 'month' columns\n",
    "    df['year'] = df['date'].dt.year\n",
    "    df['month'] = df['date'].dt.month\n",
    "    return df"
   ]
  },
  {
   "cell_type": "code",
   "execution_count": 10,
   "id": "0aea728b-b9af-4cb0-9ea8-6027423c26e7",
   "metadata": {
    "pycharm": {
     "name": "#%%\n"
    }
   },
   "outputs": [
    {
     "name": "stderr",
     "output_type": "stream",
     "text": [
      "/tmp/ipykernel_52786/2726881660.py:12: SettingWithCopyWarning: \n",
      "A value is trying to be set on a copy of a slice from a DataFrame.\n",
      "Try using .loc[row_indexer,col_indexer] = value instead\n",
      "\n",
      "See the caveats in the documentation: https://pandas.pydata.org/pandas-docs/stable/user_guide/indexing.html#returning-a-view-versus-a-copy\n",
      "  df['date'] = df['created_at'].apply(convert_date)\n"
     ]
    }
   ],
   "source": [
    "final_h = convert_date_df(final_h)\n",
    "final_df_g = convert_date_df(final_df_g)"
   ]
  },
  {
   "cell_type": "code",
   "execution_count": 12,
   "id": "2cb75d31-f7b2-436b-bc9c-a71f027bd26e",
   "metadata": {
    "pycharm": {
     "name": "#%%\n"
    }
   },
   "outputs": [],
   "source": [
    "cleaned_df_g = final_df_g.dropna(subset=['full_text'])\n"
   ]
  },
  {
   "cell_type": "code",
   "execution_count": 13,
   "id": "43e8395c-3470-4ad9-a409-60dd43e6f837",
   "metadata": {
    "pycharm": {
     "name": "#%%\n"
    }
   },
   "outputs": [],
   "source": [
    "# Group by 'year' and 'month' and count the tweets\n",
    "monthly_tweet_counts_HPS = final_h.groupby(['year', 'month'])['full_text'].count().rename('HCPs')\n",
    "\n",
    "# # Reset the index to convert the series into a dataframe\n",
    "# monthly_tweet_counts_HPS = monthly_tweet_counts_HPS.reset_index()\n",
    "\n",
    "# To merge this with another dataframe (e.g., 'monthly_tweet_counts_general' which should be prepared similarly),\n",
    "# you would need to make sure the other dataframe is also in the same format\n",
    "monthly_tweet_counts_general = final_df_g.groupby(['year', 'month'])['full_text'].count().rename('non-HCPs')\n"
   ]
  },
  {
   "cell_type": "code",
   "execution_count": 14,
   "id": "20c82208-8b9f-4b14-9241-d3037f4e80a4",
   "metadata": {
    "pycharm": {
     "name": "#%%\n"
    }
   },
   "outputs": [],
   "source": [
    "# Convert the Series to DataFrames and rename the columns\n",
    "df_HPS = monthly_tweet_counts_HPS.reset_index().rename(columns={'full_text': 'HCPs'})\n",
    "df_g = monthly_tweet_counts_general.reset_index().rename(columns={'full_text': 'non-HCPs'})"
   ]
  },
  {
   "cell_type": "code",
   "execution_count": null,
   "outputs": [],
   "source": [
    "import matplotlib.pyplot as plt\n",
    "import pandas as pd\n",
    "\n",
    "# Merge the two DataFrames\n",
    "df = pd.merge(df_HPS, df_g, on=['year', 'month'])\n",
    "\n",
    "# Set the year and month as the index\n",
    "df.set_index(['year', 'month'], inplace=True)\n",
    "\n",
    "# Plot the DataFrame\n",
    "df.plot(kind='bar', figsize=(15, 7), color=['mediumturquoise', 'lightcoral'])\n",
    "plt.xticks(rotation=55)\n",
    "plt.gca().tick_params(axis='x', labelsize=12)\n",
    "plt.gca().tick_params(axis='y', labelsize=12)\n",
    "\n",
    "plt.title('Comparative Analysis of Tweet Volumes Between the General Population and HCPs', weight='bold')\n",
    "plt.xlabel('Date (Year, Month)', fontsize=14)\n",
    "plt.ylabel('Volume of Tweets', fontsize=14)\n",
    "plt.show()"
   ],
   "metadata": {
    "collapsed": false,
    "pycharm": {
     "name": "#%%\n"
    }
   }
  },
  {
   "cell_type": "code",
   "execution_count": null,
   "outputs": [],
   "source": [
    "# Add a column for total tweets per month\n",
    "df['total_tweets'] = df['HCPs'] + df['non-HCPs']\n",
    "\n",
    "# Calculate the percentage of tweets for HCPs and non-HCPs\n",
    "df['HCPs_percent'] = (df['HCPs'] / df['HCPs'].sum()) * 100\n",
    "df['non-HCPs_percent'] = (df['non-HCPs'] / df['non-HCPs'].sum()) * 100\n",
    "\n",
    "# Plot the DataFrame showing percentages\n",
    "df[['HCPs_percent', 'non-HCPs_percent']].plot(kind='bar', figsize=(15, 7), color=['mediumturquoise', 'lightcoral'])\n",
    "plt.xticks(rotation=55)\n",
    "plt.gca().tick_params(axis='x', labelsize=12)\n",
    "plt.gca().tick_params(axis='y', labelsize=12)\n",
    "\n",
    "# plt.title('Comparative Analysis of Tweet Volumes Between the General Population and HCPs (as Percentages)', weight='bold')\n",
    "plt.xlabel('Date (Year, Month)', fontsize=14)\n",
    "plt.ylabel('Percentage of Total Tweets', fontsize=14)\n",
    "plt.legend(labels=['HCPs', 'Non-HCPs'])\n",
    "# plt.savefig('tweet_volumes_comparison.png')\n",
    "plt.show()\n"
   ],
   "metadata": {
    "collapsed": false,
    "pycharm": {
     "name": "#%%\n"
    }
   }
  },
  {
   "cell_type": "code",
   "execution_count": null,
   "outputs": [],
   "source": [
    "import matplotlib.pyplot as plt\n",
    "import pandas as pd\n",
    "\n",
    "# Merge the two DataFrames\n",
    "df = pd.merge(df_HPS, df_g, on=['year', 'month'])\n",
    "\n",
    "# Set the year and month as the index\n",
    "df.set_index(['year', 'month'], inplace=True)\n",
    "\n",
    "# Plot the DataFrame\n",
    "df.plot(kind='bar', figsize=(15, 7), color=['mediumturquoise', 'lightcoral'])\n",
    "plt.xticks(rotation=55)\n",
    "plt.gca().tick_params(axis='x', labelsize=12)\n",
    "plt.gca().tick_params(axis='y', labelsize=12)\n",
    "\n",
    "plt.title('Comparative Analysis of Tweet Volumes Between the General Population and HCPs', weight='bold')\n",
    "plt.xlabel('Date (Year, Month)', fontsize=14)\n",
    "plt.ylabel('Volume of Tweets', fontsize=14)\n",
    "plt.show()\n"
   ],
   "metadata": {
    "collapsed": false,
    "pycharm": {
     "name": "#%%\n"
    }
   }
  },
  {
   "cell_type": "code",
   "execution_count": null,
   "outputs": [],
   "source": [
    "import matplotlib.pyplot as plt\n",
    "import pandas as pd\n",
    "\n",
    "# Merge the two DataFrames\n",
    "df = pd.merge(df_HPS, df_g, on=['year', 'month'])\n",
    "\n",
    "# Set the year and month as the index\n",
    "df.set_index(['year', 'month'], inplace=True)\n",
    "\n",
    "# Plot the DataFrame\n",
    "df.plot(kind='bar', figsize=(15, 7), color=['mediumturquoise', 'lightcoral'])\n",
    "plt.xticks(rotation=55)\n",
    "\n",
    "# Adjust title and axis labels with increased font size\n",
    "plt.title('Comparative Analysis of Tweet Volumes Between the non-HCPs and HCPs', fontsize=16, weight='bold')\n",
    "plt.xlabel('Date (Year, Month)', fontsize=14)\n",
    "plt.ylabel('Volume of Tweets', fontsize=14)\n",
    "plt.gca().tick_params(axis='x', labelsize=12)\n",
    "plt.gca().tick_params(axis='y', labelsize=12)\n",
    "\n",
    "# Increase the font size of the axis tick labels\n",
    "plt.tick_params(axis='both', which='major', labelsize=12)\n",
    "plt.savefig('tweet_volume_comparison.png', dpi=300, bbox_inches='tight')\n",
    "\n",
    "plt.show()\n"
   ],
   "metadata": {
    "collapsed": false,
    "pycharm": {
     "name": "#%%\n"
    }
   }
  },
  {
   "cell_type": "code",
   "execution_count": null,
   "outputs": [],
   "source": [
    "import matplotlib.pyplot as plt\n",
    "import pandas as pd\n",
    "\n",
    "# Merge the two DataFrames\n",
    "df = pd.merge(df_HPS, df_g, on=['year', 'month'])\n",
    "\n",
    "# Convert 'year' and 'month' to a datetime format for better plotting\n",
    "df['date'] = pd.to_datetime(df[['year', 'month']].assign(DAY=1))\n",
    "\n",
    "# Convert the datetime 'date' to a string format 'YYYY-MM'\n",
    "df['date_str'] = df['date'].dt.strftime('%Y-%m')\n",
    "\n",
    "# Set the new string date as the index\n",
    "df.set_index('date_str', inplace=True)\n",
    "\n",
    "# Drop the 'year', 'month', and 'date' columns if they are no longer needed\n",
    "df.drop(['year', 'month', 'date'], axis=1, inplace=True)\n",
    "\n",
    "# Plot the DataFrame as a line plot\n",
    "fig, ax = plt.subplots(figsize=(15, 7))\n",
    "for column, color in zip(df.columns, ['mediumturquoise', 'lightcoral']):\n",
    "    df[column].plot(kind='line', ax=ax, color=color, label=column)\n",
    "    ax.fill_between(df.index, 0, df[column], color=color, alpha=0.5)\n",
    "\n",
    "# plt.xticks(rotation=45, ha='right')\n",
    "\n",
    "plt.title('Comparative Analysis of Tweet Volumes Between the General Population and HCPs', fontsize=16)\n",
    "plt.xlabel('Date (Year, Month)', fontsize=14)\n",
    "plt.ylabel('Volume of Tweets', fontsize=14)\n",
    "plt.tick_params(axis='both', which='major', labelsize=12)\n",
    "plt.legend()\n",
    "plt.tight_layout()\n",
    "plt.show()\n"
   ],
   "metadata": {
    "collapsed": false,
    "pycharm": {
     "name": "#%%\n"
    }
   }
  },
  {
   "cell_type": "code",
   "execution_count": null,
   "id": "07fa3840-bc55-4737-b892-e3015524c532",
   "metadata": {
    "pycharm": {
     "name": "#%%\n"
    }
   },
   "outputs": [],
   "source": []
  }
 ],
 "metadata": {
  "kernelspec": {
   "display_name": "my_env",
   "language": "python",
   "name": "my_env"
  },
  "language_info": {
   "codemirror_mode": {
    "name": "ipython",
    "version": 3
   },
   "file_extension": ".py",
   "mimetype": "text/x-python",
   "name": "python",
   "nbconvert_exporter": "python",
   "pygments_lexer": "ipython3",
   "version": "3.9.17"
  }
 },
 "nbformat": 4,
 "nbformat_minor": 5
}