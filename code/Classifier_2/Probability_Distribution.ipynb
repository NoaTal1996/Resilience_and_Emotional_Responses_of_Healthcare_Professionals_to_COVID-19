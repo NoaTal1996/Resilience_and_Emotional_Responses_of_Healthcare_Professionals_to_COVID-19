{
 "cells": [
  {
   "cell_type": "code",
   "execution_count": null,
   "id": "708740d0-3bc8-4499-a13f-d2b244da6631",
   "metadata": {
    "id": "708740d0-3bc8-4499-a13f-d2b244da6631",
    "pycharm": {
     "name": "#%%\n"
    }
   },
   "outputs": [],
   "source": [
    "import pandas as pd"
   ]
  },
  {
   "cell_type": "code",
   "execution_count": null,
   "id": "b43b38bc-80c2-4377-b100-851fee9b25ed",
   "metadata": {
    "id": "b43b38bc-80c2-4377-b100-851fee9b25ed",
    "outputId": "54803628-fb8e-47a6-8a20-b1525511f6db",
    "pycharm": {
     "name": "#%%\n"
    }
   },
   "outputs": [
    {
     "name": "stderr",
     "output_type": "stream",
     "text": [
      "/home/noaai/.conda/envs/st/lib/python3.11/site-packages/tqdm/auto.py:21: TqdmWarning: IProgress not found. Please update jupyter and ipywidgets. See https://ipywidgets.readthedocs.io/en/stable/user_install.html\n",
      "  from .autonotebook import tqdm as notebook_tqdm\n"
     ]
    },
    {
     "data": {
      "text/plain": [
       "False"
      ]
     },
     "execution_count": 2,
     "metadata": {},
     "output_type": "execute_result"
    }
   ],
   "source": [
    "import torch\n",
    "torch.cuda.is_available()"
   ]
  },
  {
   "cell_type": "code",
   "execution_count": null,
   "id": "d137736c-0256-496c-bf6e-62852c2f574e",
   "metadata": {
    "id": "d137736c-0256-496c-bf6e-62852c2f574e",
    "pycharm": {
     "name": "#%%\n"
    }
   },
   "outputs": [],
   "source": [
    "df_1 = pd.read_csv('ll_users_des_label_0.csv')\n",
    "df_2 = pd.read_csv('ll_users_des_label_1.csv')\n",
    "df_3 = pd.read_csv('ll_users_des_label_2.csv')\n",
    "df_4 = pd.read_csv('ll_users_des_label_4.csv')\n",
    "df_5 = pd.read_csv('ll_users_des_label_6.csv')\n",
    "df_6 = pd.read_csv('ll_users_des_label_7.csv')\n",
    "df_7 = pd.read_csv('ll_users_des_label_8.csv')\n",
    "df_8 = pd.read_csv('ll_users_des_label_9.csv')\n",
    "df_9 = pd.read_csv('ll_users_des_label_10.csv')\n",
    "df_10 = pd.read_csv('ll_users_des_label_11.csv')\n",
    "df = pd.concat([df_1,df_2,df_3,df_4,df_5,df_6,df_7,df_8,df_10,df_9])"
   ]
  },
  {
   "cell_type": "code",
   "execution_count": null,
   "id": "bf3ff282-a60e-4154-a591-e259f98d3577",
   "metadata": {
    "id": "bf3ff282-a60e-4154-a591-e259f98d3577",
    "pycharm": {
     "name": "#%%\n"
    }
   },
   "outputs": [],
   "source": [
    "unique_screen_names_df = df.drop_duplicates(subset=['screen_name'])\n",
    "df = unique_screen_names_df"
   ]
  },
  {
   "cell_type": "code",
   "execution_count": null,
   "id": "efff4ab0-e4c0-4a54-8a52-e1754fef9ee4",
   "metadata": {
    "id": "efff4ab0-e4c0-4a54-8a52-e1754fef9ee4",
    "pycharm": {
     "name": "#%%\n"
    }
   },
   "outputs": [],
   "source": [
    "df[df['label'] == 1]"
   ]
  },
  {
   "cell_type": "code",
   "execution_count": null,
   "outputs": [],
   "source": [
    "import seaborn as sns\n",
    "import matplotlib.pyplot as plt\n",
    "\n",
    "# Assuming you have a dataframe named 'df' with a 'label' column and a 'probs' column\n",
    "\n",
    "# Filter the dataframe for label=1 (healthcare workers) and select the 'probs' column\n",
    "hcw_probs = df[df['label'] == 1]['probs']\n",
    "\n",
    "# Plot the distribution using seaborn\n",
    "sns.histplot(hcw_probs, kde=True)\n",
    "\n",
    "# Set plot title and labels\n",
    "plt.title(\"Probability Distribution of Healthcare Workers\")\n",
    "plt.xlabel(\"Probability\")\n",
    "plt.ylabel(\"Frequency\")\n",
    "\n",
    "# Show the plot\n",
    "plt.show()\n"
   ],
   "metadata": {
    "collapsed": false,
    "pycharm": {
     "name": "#%%\n"
    }
   }
  },
  {
   "cell_type": "code",
   "execution_count": null,
   "id": "df5a8688-f13e-4601-b97e-2c02cbaeba7f",
   "metadata": {
    "id": "df5a8688-f13e-4601-b97e-2c02cbaeba7f",
    "pycharm": {
     "name": "#%%\n"
    }
   },
   "outputs": [],
   "source": [
    "df"
   ]
  },
  {
   "cell_type": "code",
   "execution_count": null,
   "id": "0df7de25-726e-47cf-9aaa-92bd4e080ace",
   "metadata": {
    "id": "0df7de25-726e-47cf-9aaa-92bd4e080ace",
    "pycharm": {
     "name": "#%%\n"
    }
   },
   "outputs": [],
   "source": [
    "import numpy as np\n",
    "\n",
    "# Filter the DataFrame to only include rows where label is 1\n",
    "df_label_1 = df[df['label'] == 1]\n",
    "\n",
    "# Calculate the absolute difference between the probs column and 0.5\n",
    "probs_diff = np.abs(df_label_1['probs'] - 0.5)\n",
    "\n",
    "# Get the indices of the rows sorted by the absolute difference in probs\n",
    "sorted_indices = np.argsort(probs_diff)\n",
    "\n",
    "# Take the first 100 indices to get a sample of 100 accounts\n",
    "sample_indices = sorted_indices[:100]\n",
    "\n",
    "# Use the sample_indices to select the rows from the original DataFrame\n",
    "sample_df = df_label_1.iloc[sample_indices]\n"
   ]
  },
  {
   "cell_type": "code",
   "execution_count": null,
   "id": "3d1860fe-f154-44d1-bfdd-42ed373a0e0e",
   "metadata": {
    "id": "3d1860fe-f154-44d1-bfdd-42ed373a0e0e",
    "pycharm": {
     "name": "#%%\n"
    }
   },
   "outputs": [],
   "source": [
    "sample_df.to_csv('random_100_0_5.csv')"
   ]
  },
  {
   "cell_type": "code",
   "execution_count": null,
   "id": "43e1248d-8542-486a-9200-9f9d71ec8b10",
   "metadata": {
    "id": "43e1248d-8542-486a-9200-9f9d71ec8b10",
    "pycharm": {
     "name": "#%%\n"
    }
   },
   "outputs": [],
   "source": [
    "# Filter the DataFrame to only include rows where label is 1\n",
    "df_label_1 = df[df['label'] == 1]\n",
    "\n",
    "# Sort the DataFrame by the probs column in descending order\n",
    "sorted_df = df_label_1.sort_values('probs', ascending=False)\n",
    "\n",
    "# Select the first row (with the highest probability)\n",
    "highest_prob_row = sorted_df.iloc[:100]\n",
    "\n",
    "# Print the result\n",
    "highest_prob_row\n"
   ]
  },
  {
   "cell_type": "code",
   "execution_count": null,
   "id": "3aa7f719-6bf0-4bb4-98ad-f95842c6a6bc",
   "metadata": {
    "id": "3aa7f719-6bf0-4bb4-98ad-f95842c6a6bc",
    "pycharm": {
     "name": "#%%\n"
    }
   },
   "outputs": [],
   "source": [
    "highest_prob_row.to_csv('random_100_high.csv')"
   ]
  },
  {
   "cell_type": "code",
   "execution_count": null,
   "id": "b06a1389-fedf-434d-8b52-8f3c7d59a3b5",
   "metadata": {
    "id": "b06a1389-fedf-434d-8b52-8f3c7d59a3b5",
    "pycharm": {
     "name": "#%%\n"
    }
   },
   "outputs": [],
   "source": [
    "# Reset the indices to ensure they are continuous and sorted\n",
    "df_label_1 = df[df['label'] == 1]\n",
    "\n",
    "df_label_1 = df_label_1.reset_index(drop=True)\n",
    "\n",
    "# Calculate the median of the probs column\n",
    "probs_median = df_label_1['probs'].median()\n",
    "\n",
    "# Calculate the absolute difference between the probs column and the median\n",
    "probs_diff = np.abs(df_label_1['probs'] - probs_median)\n",
    "\n",
    "# Sort the absolute differences in ascending order\n",
    "sorted_diff = probs_diff.sort_values()\n",
    "\n",
    "# Get the indices of the 100 rows closest to the median\n",
    "top_100_indices = sorted_diff.index[:100]\n",
    "\n",
    "# Use the top_100_indices to select the rows from the original DataFrame\n",
    "sample_df = df_label_1.iloc[top_100_indices]\n",
    "\n",
    "# Print the result\n",
    "sample_df"
   ]
  },
  {
   "cell_type": "code",
   "execution_count": null,
   "id": "fd5e92c4-256b-4a5d-8777-37c60328953a",
   "metadata": {
    "id": "fd5e92c4-256b-4a5d-8777-37c60328953a",
    "pycharm": {
     "name": "#%%\n"
    }
   },
   "outputs": [],
   "source": [
    "sample_df.to_csv('random_100_midle.csv')"
   ]
  },
  {
   "cell_type": "code",
   "execution_count": null,
   "id": "74ad6794-ff05-4688-b338-6aa92f70a335",
   "metadata": {
    "id": "74ad6794-ff05-4688-b338-6aa92f70a335",
    "pycharm": {
     "name": "#%%\n"
    }
   },
   "outputs": [],
   "source": [
    "df_label_1 = df[df['label'] == 1]\n",
    "df_above_thresh = df_label_1[df_label_1['probs'] > 0.95]\n",
    "sample_df = df_above_thresh.nsmallest(100, 'probs')\n",
    "sample_df\n"
   ]
  },
  {
   "cell_type": "code",
   "execution_count": null,
   "id": "36cc5f00-8b32-4c34-8bd6-e3ad2c74999e",
   "metadata": {
    "id": "36cc5f00-8b32-4c34-8bd6-e3ad2c74999e",
    "pycharm": {
     "name": "#%%\n"
    }
   },
   "outputs": [],
   "source": [
    "df_above_thresh.to_csv('10K_users.csv')"
   ]
  },
  {
   "cell_type": "code",
   "execution_count": null,
   "id": "df65d482-96bc-4c3b-bb4f-28f6c5fc97ec",
   "metadata": {
    "id": "df65d482-96bc-4c3b-bb4f-28f6c5fc97ec",
    "pycharm": {
     "name": "#%%\n"
    }
   },
   "outputs": [],
   "source": [
    "sample_df.to_csv('random_100_95.csv')"
   ]
  },
  {
   "cell_type": "code",
   "execution_count": null,
   "outputs": [],
   "source": [
    "import pandas as pd\n",
    "\n",
    "# Load the Excel file with predicted and true labels\n",
    "df = pd.read_csv('random_100_94.csv')\n",
    "\n",
    "# Calculate TP, FP, FN, TN\n",
    "TP = ((df['Predicted Label'] == 1) & (df['True Label'] == 1)).sum()\n",
    "FP = ((df['Predicted Label'] == 1) & (df['True Label'] == 0)).sum()\n",
    "FN = ((df['Predicted Label'] == 0) & (df['True Label'] == 1)).sum()\n",
    "TN = ((df['Predicted Label'] == 0) & (df['True Label'] == 0)).sum()\n",
    "\n",
    "# Calculate recall and precision\n",
    "recall = TP / (TP + FN)\n",
    "precision = TP / (TP + FP)\n",
    "\n",
    "# Print the results\n",
    "print(f\"Recall = {recall:.2f}\")\n",
    "print(f\"Precision = {precision:.2f}\")\n"
   ],
   "metadata": {
    "collapsed": false,
    "pycharm": {
     "name": "#%%\n"
    }
   }
  },
  {
   "cell_type": "code",
   "execution_count": null,
   "outputs": [],
   "source": [
    "\n",
    "# Load the Excel file with predicted and true labels\n",
    "df = pd.read_csv('random_100_midle.csv')\n",
    "\n",
    "# Calculate TP, FP, FN, TN\n",
    "TP = ((df['Predicted Label'] == 1) & (df['True Label'] == 1)).sum()\n",
    "FP = ((df['Predicted Label'] == 1) & (df['True Label'] == 0)).sum()\n",
    "FN = ((df['Predicted Label'] == 0) & (df['True Label'] == 1)).sum()\n",
    "TN = ((df['Predicted Label'] == 0) & (df['True Label'] == 0)).sum()\n",
    "\n",
    "# Calculate recall and precision\n",
    "recall = TP / (TP + FN)\n",
    "precision = TP / (TP + FP)\n",
    "\n",
    "# Print the results\n",
    "print(f\"Recall = {recall:.2f}\")\n",
    "print(f\"Precision = {precision:.2f}\")"
   ],
   "metadata": {
    "collapsed": false,
    "pycharm": {
     "name": "#%%\n"
    }
   }
  }
 ],
 "metadata": {
  "kernelspec": {
   "display_name": "st",
   "language": "python",
   "name": "st"
  },
  "language_info": {
   "codemirror_mode": {
    "name": "ipython",
    "version": 3
   },
   "file_extension": ".py",
   "mimetype": "text/x-python",
   "name": "python",
   "nbconvert_exporter": "python",
   "pygments_lexer": "ipython3",
   "version": "3.11.3"
  },
  "colab": {
   "provenance": []
  }
 },
 "nbformat": 4,
 "nbformat_minor": 5
}